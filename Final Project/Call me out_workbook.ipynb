{
 "cells": [
  {
   "cell_type": "code",
   "execution_count": 91,
   "id": "591ff253",
   "metadata": {},
   "outputs": [],
   "source": [
    "import numpy as np\n",
    "import pandas as pd\n",
    "import matplotlib.pyplot as plt\n",
    "%matplotlib inline\n",
    "import seaborn as sns\n",
    "from sklearn.preprocessing import PowerTransformer\n",
    "from sklearn.compose import ColumnTransformer\n",
    "from sklearn.linear_model import LinearRegression\n",
    "from sklearn.model_selection import train_test_split\n",
    "\n",
    "import statsmodels.api as sm\n",
    "from sklearn.metrics import r2_score\n",
    "from sklearn.metrics import mean_squared_error as mse\n",
    "from sklearn.metrics import mean_absolute_error as mae\n",
    "pd.options.display.max_rows = 50"
   ]
  },
  {
   "cell_type": "code",
   "execution_count": 92,
   "id": "a4242af8",
   "metadata": {},
   "outputs": [],
   "source": [
    "RAND_STATE = 42 \n",
    "TT_RATIO = 0.3 "
   ]
  },
  {
   "cell_type": "code",
   "execution_count": 93,
   "id": "7cdd3e0d",
   "metadata": {},
   "outputs": [
    {
     "data": {
      "text/html": [
       "<div>\n",
       "<style scoped>\n",
       "    .dataframe tbody tr th:only-of-type {\n",
       "        vertical-align: middle;\n",
       "    }\n",
       "\n",
       "    .dataframe tbody tr th {\n",
       "        vertical-align: top;\n",
       "    }\n",
       "\n",
       "    .dataframe thead th {\n",
       "        text-align: right;\n",
       "    }\n",
       "</style>\n",
       "<table border=\"1\" class=\"dataframe\">\n",
       "  <thead>\n",
       "    <tr style=\"text-align: right;\">\n",
       "      <th></th>\n",
       "      <th>id</th>\n",
       "      <th>dataset</th>\n",
       "      <th>text</th>\n",
       "      <th>toxicity</th>\n",
       "      <th>sexist</th>\n",
       "      <th>of_id</th>\n",
       "    </tr>\n",
       "  </thead>\n",
       "  <tbody>\n",
       "    <tr>\n",
       "      <th>0</th>\n",
       "      <td>0</td>\n",
       "      <td>other</td>\n",
       "      <td>MENTION3481 i didn't even know random was an o...</td>\n",
       "      <td>0.118180</td>\n",
       "      <td>False</td>\n",
       "      <td>-1</td>\n",
       "    </tr>\n",
       "    <tr>\n",
       "      <th>1</th>\n",
       "      <td>1</td>\n",
       "      <td>other</td>\n",
       "      <td>Bottom two should've gone!  #mkr</td>\n",
       "      <td>0.251850</td>\n",
       "      <td>False</td>\n",
       "      <td>-1</td>\n",
       "    </tr>\n",
       "    <tr>\n",
       "      <th>2</th>\n",
       "      <td>2</td>\n",
       "      <td>callme</td>\n",
       "      <td>MENTION3111 MENTION3424 ladyboner deserves so ...</td>\n",
       "      <td>0.113331</td>\n",
       "      <td>False</td>\n",
       "      <td>-1</td>\n",
       "    </tr>\n",
       "    <tr>\n",
       "      <th>3</th>\n",
       "      <td>3</td>\n",
       "      <td>other</td>\n",
       "      <td>She shall now be known as Sourpuss #MKR #KatAn...</td>\n",
       "      <td>0.531153</td>\n",
       "      <td>False</td>\n",
       "      <td>-1</td>\n",
       "    </tr>\n",
       "    <tr>\n",
       "      <th>4</th>\n",
       "      <td>4</td>\n",
       "      <td>other</td>\n",
       "      <td>Tarah W threw a bunch of women under the bus s...</td>\n",
       "      <td>0.118718</td>\n",
       "      <td>False</td>\n",
       "      <td>-1</td>\n",
       "    </tr>\n",
       "    <tr>\n",
       "      <th>...</th>\n",
       "      <td>...</td>\n",
       "      <td>...</td>\n",
       "      <td>...</td>\n",
       "      <td>...</td>\n",
       "      <td>...</td>\n",
       "      <td>...</td>\n",
       "    </tr>\n",
       "    <tr>\n",
       "      <th>13626</th>\n",
       "      <td>13630</td>\n",
       "      <td>callme</td>\n",
       "      <td>this reminds me of the MENTION3079 situation; ...</td>\n",
       "      <td>0.147044</td>\n",
       "      <td>False</td>\n",
       "      <td>-1</td>\n",
       "    </tr>\n",
       "    <tr>\n",
       "      <th>13627</th>\n",
       "      <td>13631</td>\n",
       "      <td>other</td>\n",
       "      <td>#mkr I love Annie and loyld there like a real ...</td>\n",
       "      <td>0.213106</td>\n",
       "      <td>False</td>\n",
       "      <td>-1</td>\n",
       "    </tr>\n",
       "    <tr>\n",
       "      <th>13628</th>\n",
       "      <td>13632</td>\n",
       "      <td>other</td>\n",
       "      <td>No u. http://t.co/zOr0eWahSS</td>\n",
       "      <td>0.324702</td>\n",
       "      <td>False</td>\n",
       "      <td>-1</td>\n",
       "    </tr>\n",
       "    <tr>\n",
       "      <th>13629</th>\n",
       "      <td>13633</td>\n",
       "      <td>other</td>\n",
       "      <td>#mkr the way kat looks at Annie is like she's ...</td>\n",
       "      <td>0.563036</td>\n",
       "      <td>False</td>\n",
       "      <td>-1</td>\n",
       "    </tr>\n",
       "    <tr>\n",
       "      <th>13630</th>\n",
       "      <td>13634</td>\n",
       "      <td>other</td>\n",
       "      <td>#mkr omg the kiss stains on the \"dirty\" mirror...</td>\n",
       "      <td>0.530917</td>\n",
       "      <td>False</td>\n",
       "      <td>-1</td>\n",
       "    </tr>\n",
       "  </tbody>\n",
       "</table>\n",
       "<p>13631 rows × 6 columns</p>\n",
       "</div>"
      ],
      "text/plain": [
       "          id dataset                                               text  \\\n",
       "0          0   other  MENTION3481 i didn't even know random was an o...   \n",
       "1          1   other                   Bottom two should've gone!  #mkr   \n",
       "2          2  callme  MENTION3111 MENTION3424 ladyboner deserves so ...   \n",
       "3          3   other  She shall now be known as Sourpuss #MKR #KatAn...   \n",
       "4          4   other  Tarah W threw a bunch of women under the bus s...   \n",
       "...      ...     ...                                                ...   \n",
       "13626  13630  callme  this reminds me of the MENTION3079 situation; ...   \n",
       "13627  13631   other  #mkr I love Annie and loyld there like a real ...   \n",
       "13628  13632   other                       No u. http://t.co/zOr0eWahSS   \n",
       "13629  13633   other  #mkr the way kat looks at Annie is like she's ...   \n",
       "13630  13634   other  #mkr omg the kiss stains on the \"dirty\" mirror...   \n",
       "\n",
       "       toxicity  sexist  of_id  \n",
       "0      0.118180   False     -1  \n",
       "1      0.251850   False     -1  \n",
       "2      0.113331   False     -1  \n",
       "3      0.531153   False     -1  \n",
       "4      0.118718   False     -1  \n",
       "...         ...     ...    ...  \n",
       "13626  0.147044   False     -1  \n",
       "13627  0.213106   False     -1  \n",
       "13628  0.324702   False     -1  \n",
       "13629  0.563036   False     -1  \n",
       "13630  0.530917   False     -1  \n",
       "\n",
       "[13631 rows x 6 columns]"
      ]
     },
     "execution_count": 93,
     "metadata": {},
     "output_type": "execute_result"
    }
   ],
   "source": [
    "df= pd.read_csv(\"sexism_data.csv\")\n",
    "df"
   ]
  },
  {
   "cell_type": "code",
   "execution_count": 94,
   "id": "b0e46a6b",
   "metadata": {},
   "outputs": [
    {
     "data": {
      "text/html": [
       "<div>\n",
       "<style scoped>\n",
       "    .dataframe tbody tr th:only-of-type {\n",
       "        vertical-align: middle;\n",
       "    }\n",
       "\n",
       "    .dataframe tbody tr th {\n",
       "        vertical-align: top;\n",
       "    }\n",
       "\n",
       "    .dataframe thead th {\n",
       "        text-align: right;\n",
       "    }\n",
       "</style>\n",
       "<table border=\"1\" class=\"dataframe\">\n",
       "  <thead>\n",
       "    <tr style=\"text-align: right;\">\n",
       "      <th></th>\n",
       "      <th>text</th>\n",
       "      <th>sexist</th>\n",
       "    </tr>\n",
       "  </thead>\n",
       "  <tbody>\n",
       "    <tr>\n",
       "      <th>0</th>\n",
       "      <td>MENTION3481 i didn't even know random was an o...</td>\n",
       "      <td>False</td>\n",
       "    </tr>\n",
       "    <tr>\n",
       "      <th>1</th>\n",
       "      <td>Bottom two should've gone!  #mkr</td>\n",
       "      <td>False</td>\n",
       "    </tr>\n",
       "    <tr>\n",
       "      <th>2</th>\n",
       "      <td>MENTION3111 MENTION3424 ladyboner deserves so ...</td>\n",
       "      <td>False</td>\n",
       "    </tr>\n",
       "    <tr>\n",
       "      <th>3</th>\n",
       "      <td>She shall now be known as Sourpuss #MKR #KatAn...</td>\n",
       "      <td>False</td>\n",
       "    </tr>\n",
       "    <tr>\n",
       "      <th>4</th>\n",
       "      <td>Tarah W threw a bunch of women under the bus s...</td>\n",
       "      <td>False</td>\n",
       "    </tr>\n",
       "    <tr>\n",
       "      <th>...</th>\n",
       "      <td>...</td>\n",
       "      <td>...</td>\n",
       "    </tr>\n",
       "    <tr>\n",
       "      <th>13626</th>\n",
       "      <td>this reminds me of the MENTION3079 situation; ...</td>\n",
       "      <td>False</td>\n",
       "    </tr>\n",
       "    <tr>\n",
       "      <th>13627</th>\n",
       "      <td>#mkr I love Annie and loyld there like a real ...</td>\n",
       "      <td>False</td>\n",
       "    </tr>\n",
       "    <tr>\n",
       "      <th>13628</th>\n",
       "      <td>No u. http://t.co/zOr0eWahSS</td>\n",
       "      <td>False</td>\n",
       "    </tr>\n",
       "    <tr>\n",
       "      <th>13629</th>\n",
       "      <td>#mkr the way kat looks at Annie is like she's ...</td>\n",
       "      <td>False</td>\n",
       "    </tr>\n",
       "    <tr>\n",
       "      <th>13630</th>\n",
       "      <td>#mkr omg the kiss stains on the \"dirty\" mirror...</td>\n",
       "      <td>False</td>\n",
       "    </tr>\n",
       "  </tbody>\n",
       "</table>\n",
       "<p>13631 rows × 2 columns</p>\n",
       "</div>"
      ],
      "text/plain": [
       "                                                    text  sexist\n",
       "0      MENTION3481 i didn't even know random was an o...   False\n",
       "1                       Bottom two should've gone!  #mkr   False\n",
       "2      MENTION3111 MENTION3424 ladyboner deserves so ...   False\n",
       "3      She shall now be known as Sourpuss #MKR #KatAn...   False\n",
       "4      Tarah W threw a bunch of women under the bus s...   False\n",
       "...                                                  ...     ...\n",
       "13626  this reminds me of the MENTION3079 situation; ...   False\n",
       "13627  #mkr I love Annie and loyld there like a real ...   False\n",
       "13628                       No u. http://t.co/zOr0eWahSS   False\n",
       "13629  #mkr the way kat looks at Annie is like she's ...   False\n",
       "13630  #mkr omg the kiss stains on the \"dirty\" mirror...   False\n",
       "\n",
       "[13631 rows x 2 columns]"
      ]
     },
     "execution_count": 94,
     "metadata": {},
     "output_type": "execute_result"
    }
   ],
   "source": [
    "df.drop(['id','dataset','toxicity','of_id'], axis =1, inplace = True)\n",
    "df"
   ]
  },
  {
   "cell_type": "code",
   "execution_count": 95,
   "id": "5828b458",
   "metadata": {},
   "outputs": [
    {
     "data": {
      "text/plain": [
       "text      False\n",
       "sexist    False\n",
       "dtype: bool"
      ]
     },
     "execution_count": 95,
     "metadata": {},
     "output_type": "execute_result"
    }
   ],
   "source": [
    "df.isna().any()"
   ]
  },
  {
   "cell_type": "code",
   "execution_count": 96,
   "id": "d9e3809e",
   "metadata": {},
   "outputs": [
    {
     "name": "stdout",
     "output_type": "stream",
     "text": [
      "                                                    text  sexist\n",
      "0      MENTION3481 i didn't even know random was an o...   False\n",
      "1                       Bottom two should've gone!  #mkr   False\n",
      "2      MENTION3111 MENTION3424 ladyboner deserves so ...   False\n",
      "3      She shall now be known as Sourpuss #MKR #KatAn...   False\n",
      "4      Tarah W threw a bunch of women under the bus s...   False\n",
      "...                                                  ...     ...\n",
      "13626  this reminds me of the MENTION3079 situation; ...   False\n",
      "13627  #mkr I love Annie and loyld there like a real ...   False\n",
      "13628                       No u. http://t.co/zOr0eWahSS   False\n",
      "13629  #mkr the way kat looks at Annie is like she's ...   False\n",
      "13630  #mkr omg the kiss stains on the \"dirty\" mirror...   False\n",
      "\n",
      "[13345 rows x 2 columns]\n"
     ]
    }
   ],
   "source": [
    "df = df.drop_duplicates()\n",
    "print(df)"
   ]
  },
  {
   "cell_type": "code",
   "execution_count": 97,
   "id": "1c7e41e6",
   "metadata": {},
   "outputs": [
    {
     "name": "stderr",
     "output_type": "stream",
     "text": [
      "[nltk_data] Downloading package punkt to /Users/mm527x/nltk_data...\n",
      "[nltk_data]   Package punkt is already up-to-date!\n",
      "[nltk_data] Downloading package stopwords to\n",
      "[nltk_data]     /Users/mm527x/nltk_data...\n",
      "[nltk_data]   Package stopwords is already up-to-date!\n"
     ]
    }
   ],
   "source": [
    "import nltk\n",
    "nltk.download('punkt')\n",
    "nltk.download('stopwords')\n",
    "\n",
    "import re"
   ]
  },
  {
   "cell_type": "code",
   "execution_count": 98,
   "id": "01dd54c2",
   "metadata": {},
   "outputs": [
    {
     "name": "stderr",
     "output_type": "stream",
     "text": [
      "[nltk_data] Downloading package stopwords to\n",
      "[nltk_data]     /Users/mm527x/nltk_data...\n",
      "[nltk_data]   Package stopwords is already up-to-date!\n",
      "/var/folders/n_/mqs2n84x0k3g_vz_3dbgh2yr0000gp/T/ipykernel_27695/4278759684.py:32: SettingWithCopyWarning: \n",
      "A value is trying to be set on a copy of a slice from a DataFrame.\n",
      "Try using .loc[row_indexer,col_indexer] = value instead\n",
      "\n",
      "See the caveats in the documentation: https://pandas.pydata.org/pandas-docs/stable/user_guide/indexing.html#returning-a-view-versus-a-copy\n",
      "  df['processed_text'] = df['text'].apply(preprocess_text)\n"
     ]
    }
   ],
   "source": [
    "import pandas as pd\n",
    "import nltk\n",
    "from nltk.corpus import stopwords\n",
    "from nltk.stem import PorterStemmer\n",
    "from nltk.tokenize import word_tokenize\n",
    "import string\n",
    "\n",
    "# Load the stop words\n",
    "nltk.download('stopwords')\n",
    "stop_words = set(stopwords.words('english'))\n",
    "\n",
    "# Initialize the stemmer\n",
    "stemmer = PorterStemmer()\n",
    "\n",
    "# Define a function to preprocess the text\n",
    "def preprocess_text(text):\n",
    "    # Normalize the text to lowercase\n",
    "    text = text.lower()\n",
    "    # Remove punctuation\n",
    "    text = text.translate(str.maketrans('', '', string.punctuation))\n",
    "    # Tokenize the text\n",
    "    tokens = word_tokenize(text)\n",
    "    # Remove stop words\n",
    "    tokens = [token for token in tokens if token not in stop_words]\n",
    "    # Perform stemming\n",
    "    tokens = [stemmer.stem(token) for token in tokens]\n",
    "    # Join the tokens back into a string\n",
    "    text = ' '.join(tokens)\n",
    "    return text\n",
    "\n",
    "# Apply the preprocessing function to the 'text' column of your DataFrame\n",
    "df['processed_text'] = df['text'].apply(preprocess_text)\n",
    "\n",
    "# Save the processed dataset\n",
    "df.to_csv('processed_dataset.csv', index=False)\n"
   ]
  },
  {
   "cell_type": "code",
   "execution_count": 99,
   "id": "6670a49d",
   "metadata": {
    "scrolled": true
   },
   "outputs": [
    {
     "name": "stderr",
     "output_type": "stream",
     "text": [
      "[nltk_data] Downloading package averaged_perceptron_tagger to\n",
      "[nltk_data]     /Users/mm527x/nltk_data...\n",
      "[nltk_data]   Package averaged_perceptron_tagger is already up-to-\n",
      "[nltk_data]       date!\n"
     ]
    },
    {
     "data": {
      "text/plain": [
       "True"
      ]
     },
     "execution_count": 99,
     "metadata": {},
     "output_type": "execute_result"
    }
   ],
   "source": [
    "import nltk\n",
    "nltk.download('averaged_perceptron_tagger')\n"
   ]
  },
  {
   "cell_type": "code",
   "execution_count": 100,
   "id": "8ef2c567",
   "metadata": {},
   "outputs": [
    {
     "name": "stderr",
     "output_type": "stream",
     "text": [
      "[nltk_data] Downloading package wordnet to /Users/mm527x/nltk_data...\n",
      "[nltk_data]   Package wordnet is already up-to-date!\n"
     ]
    },
    {
     "data": {
      "text/plain": [
       "True"
      ]
     },
     "execution_count": 100,
     "metadata": {},
     "output_type": "execute_result"
    }
   ],
   "source": [
    "import nltk\n",
    "nltk.download('wordnet')\n"
   ]
  },
  {
   "cell_type": "code",
   "execution_count": 101,
   "id": "9476d70e",
   "metadata": {},
   "outputs": [
    {
     "name": "stderr",
     "output_type": "stream",
     "text": [
      "[nltk_data] Downloading package omw-1.4 to /Users/mm527x/nltk_data...\n",
      "[nltk_data]   Package omw-1.4 is already up-to-date!\n"
     ]
    },
    {
     "data": {
      "text/plain": [
       "True"
      ]
     },
     "execution_count": 101,
     "metadata": {},
     "output_type": "execute_result"
    }
   ],
   "source": [
    "import nltk\n",
    "nltk.download('omw-1.4')"
   ]
  },
  {
   "cell_type": "code",
   "execution_count": 102,
   "id": "fff97244",
   "metadata": {
    "scrolled": true
   },
   "outputs": [
    {
     "name": "stderr",
     "output_type": "stream",
     "text": [
      "[nltk_data] Downloading package stopwords to\n",
      "[nltk_data]     /Users/mm527x/nltk_data...\n",
      "[nltk_data]   Package stopwords is already up-to-date!\n",
      "/var/folders/n_/mqs2n84x0k3g_vz_3dbgh2yr0000gp/T/ipykernel_27695/4138028413.py:32: SettingWithCopyWarning: \n",
      "A value is trying to be set on a copy of a slice from a DataFrame.\n",
      "Try using .loc[row_indexer,col_indexer] = value instead\n",
      "\n",
      "See the caveats in the documentation: https://pandas.pydata.org/pandas-docs/stable/user_guide/indexing.html#returning-a-view-versus-a-copy\n",
      "  df['lem_text'] = df['text'].apply(preprocess_text)\n"
     ]
    }
   ],
   "source": [
    "import pandas as pd\n",
    "import nltk\n",
    "from nltk.corpus import stopwords\n",
    "from nltk.stem import WordNetLemmatizer\n",
    "from nltk.tokenize import word_tokenize\n",
    "import string\n",
    "\n",
    "# Load the stop words\n",
    "nltk.download('stopwords')\n",
    "stop_words = set(stopwords.words('english'))\n",
    "\n",
    "# Initialize the lemmatizer\n",
    "lemmatizer = WordNetLemmatizer()\n",
    "\n",
    "# Define a function to preprocess the text\n",
    "def preprocess_text(text):\n",
    "    # Normalize the text to lowercase\n",
    "    text = text.lower()\n",
    "    # Remove punctuation\n",
    "    text = text.translate(str.maketrans('', '', string.punctuation))\n",
    "    # Tokenize the text\n",
    "    tokens = word_tokenize(text)\n",
    "    # Remove stop words\n",
    "    tokens = [token for token in tokens if token not in stop_words]\n",
    "    # Perform lemmatization\n",
    "    tokens = [lemmatizer.lemmatize(token, pos='v') if nltk.pos_tag([token])[0][1].startswith('V') else lemmatizer.lemmatize(token) for token in tokens]\n",
    "    # Join the tokens back into a string\n",
    "    text = ' '.join(tokens)\n",
    "    return text\n",
    "\n",
    "# Apply the preprocessing function to the 'text' column of your DataFrame\n",
    "df['lem_text'] = df['text'].apply(preprocess_text)\n",
    "\n",
    "# Save the processed dataset\n",
    "df.to_csv('processed_dataset.csv', index=False)\n"
   ]
  },
  {
   "cell_type": "code",
   "execution_count": 103,
   "id": "c8a7e74b",
   "metadata": {},
   "outputs": [],
   "source": [
    "processed_df=pd.read_csv(\"processed_dataset.csv\")"
   ]
  },
  {
   "cell_type": "code",
   "execution_count": 104,
   "id": "da53a31f",
   "metadata": {},
   "outputs": [],
   "source": [
    "processed_df['sexist'] = processed_df['sexist'].astype(int)"
   ]
  },
  {
   "cell_type": "code",
   "execution_count": 105,
   "id": "e5fdcaaa",
   "metadata": {
    "scrolled": true
   },
   "outputs": [
    {
     "data": {
      "text/html": [
       "<div>\n",
       "<style scoped>\n",
       "    .dataframe tbody tr th:only-of-type {\n",
       "        vertical-align: middle;\n",
       "    }\n",
       "\n",
       "    .dataframe tbody tr th {\n",
       "        vertical-align: top;\n",
       "    }\n",
       "\n",
       "    .dataframe thead th {\n",
       "        text-align: right;\n",
       "    }\n",
       "</style>\n",
       "<table border=\"1\" class=\"dataframe\">\n",
       "  <thead>\n",
       "    <tr style=\"text-align: right;\">\n",
       "      <th></th>\n",
       "      <th>text</th>\n",
       "      <th>sexist</th>\n",
       "      <th>processed_text</th>\n",
       "      <th>lem_text</th>\n",
       "    </tr>\n",
       "  </thead>\n",
       "  <tbody>\n",
       "    <tr>\n",
       "      <th>0</th>\n",
       "      <td>MENTION3481 i didn't even know random was an o...</td>\n",
       "      <td>0</td>\n",
       "      <td>mention3481 didnt even know random option</td>\n",
       "      <td>mention3481 didnt even know random option</td>\n",
       "    </tr>\n",
       "    <tr>\n",
       "      <th>1</th>\n",
       "      <td>Bottom two should've gone!  #mkr</td>\n",
       "      <td>0</td>\n",
       "      <td>bottom two shouldv gone mkr</td>\n",
       "      <td>bottom two shouldve go mkr</td>\n",
       "    </tr>\n",
       "    <tr>\n",
       "      <th>2</th>\n",
       "      <td>MENTION3111 MENTION3424 ladyboner deserves so ...</td>\n",
       "      <td>0</td>\n",
       "      <td>mention3111 mention3424 ladybon deserv much cr...</td>\n",
       "      <td>mention3111 mention3424 ladyboner deserves muc...</td>\n",
       "    </tr>\n",
       "    <tr>\n",
       "      <th>3</th>\n",
       "      <td>She shall now be known as Sourpuss #MKR #KatAn...</td>\n",
       "      <td>0</td>\n",
       "      <td>shall known sourpuss mkr katandr failedfoodi</td>\n",
       "      <td>shall know sourpuss mkr katandre failedfoodies</td>\n",
       "    </tr>\n",
       "    <tr>\n",
       "      <th>4</th>\n",
       "      <td>Tarah W threw a bunch of women under the bus s...</td>\n",
       "      <td>0</td>\n",
       "      <td>tarah w threw bunch women bu could get wadhwa ...</td>\n",
       "      <td>tarah w threw bunch woman bus could get wadhwa...</td>\n",
       "    </tr>\n",
       "    <tr>\n",
       "      <th>...</th>\n",
       "      <td>...</td>\n",
       "      <td>...</td>\n",
       "      <td>...</td>\n",
       "      <td>...</td>\n",
       "    </tr>\n",
       "    <tr>\n",
       "      <th>13340</th>\n",
       "      <td>this reminds me of the MENTION3079 situation; ...</td>\n",
       "      <td>0</td>\n",
       "      <td>remind mention3079 situat sorri actual dont ca...</td>\n",
       "      <td>reminds mention3079 situation sorry actually d...</td>\n",
       "    </tr>\n",
       "    <tr>\n",
       "      <th>13341</th>\n",
       "      <td>#mkr I love Annie and loyld there like a real ...</td>\n",
       "      <td>0</td>\n",
       "      <td>mkr love anni loyld like real life disney coup...</td>\n",
       "      <td>mkr love annie loyld like real life disney cou...</td>\n",
       "    </tr>\n",
       "    <tr>\n",
       "      <th>13342</th>\n",
       "      <td>No u. http://t.co/zOr0eWahSS</td>\n",
       "      <td>0</td>\n",
       "      <td>u httptcozor0ewahss</td>\n",
       "      <td>u httptcozor0ewahss</td>\n",
       "    </tr>\n",
       "    <tr>\n",
       "      <th>13343</th>\n",
       "      <td>#mkr the way kat looks at Annie is like she's ...</td>\n",
       "      <td>0</td>\n",
       "      <td>mkr way kat look anni like she stear soul creepi</td>\n",
       "      <td>mkr way kat look annie like shes stearing soul...</td>\n",
       "    </tr>\n",
       "    <tr>\n",
       "      <th>13344</th>\n",
       "      <td>#mkr omg the kiss stains on the \"dirty\" mirror...</td>\n",
       "      <td>0</td>\n",
       "      <td>mkr omg kiss stain dirti mirror sooo tacki oh god</td>\n",
       "      <td>mkr omg kiss stain dirty mirror sooo tacky oh god</td>\n",
       "    </tr>\n",
       "  </tbody>\n",
       "</table>\n",
       "<p>13345 rows × 4 columns</p>\n",
       "</div>"
      ],
      "text/plain": [
       "                                                    text  sexist  \\\n",
       "0      MENTION3481 i didn't even know random was an o...       0   \n",
       "1                       Bottom two should've gone!  #mkr       0   \n",
       "2      MENTION3111 MENTION3424 ladyboner deserves so ...       0   \n",
       "3      She shall now be known as Sourpuss #MKR #KatAn...       0   \n",
       "4      Tarah W threw a bunch of women under the bus s...       0   \n",
       "...                                                  ...     ...   \n",
       "13340  this reminds me of the MENTION3079 situation; ...       0   \n",
       "13341  #mkr I love Annie and loyld there like a real ...       0   \n",
       "13342                       No u. http://t.co/zOr0eWahSS       0   \n",
       "13343  #mkr the way kat looks at Annie is like she's ...       0   \n",
       "13344  #mkr omg the kiss stains on the \"dirty\" mirror...       0   \n",
       "\n",
       "                                          processed_text  \\\n",
       "0              mention3481 didnt even know random option   \n",
       "1                            bottom two shouldv gone mkr   \n",
       "2      mention3111 mention3424 ladybon deserv much cr...   \n",
       "3           shall known sourpuss mkr katandr failedfoodi   \n",
       "4      tarah w threw bunch women bu could get wadhwa ...   \n",
       "...                                                  ...   \n",
       "13340  remind mention3079 situat sorri actual dont ca...   \n",
       "13341  mkr love anni loyld like real life disney coup...   \n",
       "13342                                u httptcozor0ewahss   \n",
       "13343   mkr way kat look anni like she stear soul creepi   \n",
       "13344  mkr omg kiss stain dirti mirror sooo tacki oh god   \n",
       "\n",
       "                                                lem_text  \n",
       "0              mention3481 didnt even know random option  \n",
       "1                             bottom two shouldve go mkr  \n",
       "2      mention3111 mention3424 ladyboner deserves muc...  \n",
       "3         shall know sourpuss mkr katandre failedfoodies  \n",
       "4      tarah w threw bunch woman bus could get wadhwa...  \n",
       "...                                                  ...  \n",
       "13340  reminds mention3079 situation sorry actually d...  \n",
       "13341  mkr love annie loyld like real life disney cou...  \n",
       "13342                                u httptcozor0ewahss  \n",
       "13343  mkr way kat look annie like shes stearing soul...  \n",
       "13344  mkr omg kiss stain dirty mirror sooo tacky oh god  \n",
       "\n",
       "[13345 rows x 4 columns]"
      ]
     },
     "execution_count": 105,
     "metadata": {},
     "output_type": "execute_result"
    }
   ],
   "source": [
    "processed_df"
   ]
  },
  {
   "cell_type": "code",
   "execution_count": 106,
   "id": "e699344b",
   "metadata": {},
   "outputs": [
    {
     "name": "stdout",
     "output_type": "stream",
     "text": [
      "0    11538\n",
      "1     1807\n",
      "Name: sexist, dtype: int64\n"
     ]
    }
   ],
   "source": [
    "print(processed_df['sexist'].value_counts())"
   ]
  },
  {
   "cell_type": "code",
   "execution_count": 107,
   "id": "1d096c6f",
   "metadata": {},
   "outputs": [],
   "source": [
    "df_stem=processed_df[['processed_text','sexist']]\n",
    "df_lem=processed_df[['lem_text','sexist']]"
   ]
  },
  {
   "cell_type": "code",
   "execution_count": 108,
   "id": "9a404f26",
   "metadata": {},
   "outputs": [
    {
     "data": {
      "text/html": [
       "<div>\n",
       "<style scoped>\n",
       "    .dataframe tbody tr th:only-of-type {\n",
       "        vertical-align: middle;\n",
       "    }\n",
       "\n",
       "    .dataframe tbody tr th {\n",
       "        vertical-align: top;\n",
       "    }\n",
       "\n",
       "    .dataframe thead th {\n",
       "        text-align: right;\n",
       "    }\n",
       "</style>\n",
       "<table border=\"1\" class=\"dataframe\">\n",
       "  <thead>\n",
       "    <tr style=\"text-align: right;\">\n",
       "      <th></th>\n",
       "      <th>processed_text</th>\n",
       "      <th>sexist</th>\n",
       "    </tr>\n",
       "  </thead>\n",
       "  <tbody>\n",
       "    <tr>\n",
       "      <th>0</th>\n",
       "      <td>mention3481 didnt even know random option</td>\n",
       "      <td>0</td>\n",
       "    </tr>\n",
       "    <tr>\n",
       "      <th>1</th>\n",
       "      <td>bottom two shouldv gone mkr</td>\n",
       "      <td>0</td>\n",
       "    </tr>\n",
       "    <tr>\n",
       "      <th>2</th>\n",
       "      <td>mention3111 mention3424 ladybon deserv much cr...</td>\n",
       "      <td>0</td>\n",
       "    </tr>\n",
       "    <tr>\n",
       "      <th>3</th>\n",
       "      <td>shall known sourpuss mkr katandr failedfoodi</td>\n",
       "      <td>0</td>\n",
       "    </tr>\n",
       "    <tr>\n",
       "      <th>4</th>\n",
       "      <td>tarah w threw bunch women bu could get wadhwa ...</td>\n",
       "      <td>0</td>\n",
       "    </tr>\n",
       "    <tr>\n",
       "      <th>...</th>\n",
       "      <td>...</td>\n",
       "      <td>...</td>\n",
       "    </tr>\n",
       "    <tr>\n",
       "      <th>13340</th>\n",
       "      <td>remind mention3079 situat sorri actual dont ca...</td>\n",
       "      <td>0</td>\n",
       "    </tr>\n",
       "    <tr>\n",
       "      <th>13341</th>\n",
       "      <td>mkr love anni loyld like real life disney coup...</td>\n",
       "      <td>0</td>\n",
       "    </tr>\n",
       "    <tr>\n",
       "      <th>13342</th>\n",
       "      <td>u httptcozor0ewahss</td>\n",
       "      <td>0</td>\n",
       "    </tr>\n",
       "    <tr>\n",
       "      <th>13343</th>\n",
       "      <td>mkr way kat look anni like she stear soul creepi</td>\n",
       "      <td>0</td>\n",
       "    </tr>\n",
       "    <tr>\n",
       "      <th>13344</th>\n",
       "      <td>mkr omg kiss stain dirti mirror sooo tacki oh god</td>\n",
       "      <td>0</td>\n",
       "    </tr>\n",
       "  </tbody>\n",
       "</table>\n",
       "<p>13345 rows × 2 columns</p>\n",
       "</div>"
      ],
      "text/plain": [
       "                                          processed_text  sexist\n",
       "0              mention3481 didnt even know random option       0\n",
       "1                            bottom two shouldv gone mkr       0\n",
       "2      mention3111 mention3424 ladybon deserv much cr...       0\n",
       "3           shall known sourpuss mkr katandr failedfoodi       0\n",
       "4      tarah w threw bunch women bu could get wadhwa ...       0\n",
       "...                                                  ...     ...\n",
       "13340  remind mention3079 situat sorri actual dont ca...       0\n",
       "13341  mkr love anni loyld like real life disney coup...       0\n",
       "13342                                u httptcozor0ewahss       0\n",
       "13343   mkr way kat look anni like she stear soul creepi       0\n",
       "13344  mkr omg kiss stain dirti mirror sooo tacki oh god       0\n",
       "\n",
       "[13345 rows x 2 columns]"
      ]
     },
     "execution_count": 108,
     "metadata": {},
     "output_type": "execute_result"
    }
   ],
   "source": [
    "df_stem"
   ]
  },
  {
   "cell_type": "code",
   "execution_count": 52,
   "id": "4524dc75",
   "metadata": {
    "scrolled": true
   },
   "outputs": [
    {
     "data": {
      "text/html": [
       "<div>\n",
       "<style scoped>\n",
       "    .dataframe tbody tr th:only-of-type {\n",
       "        vertical-align: middle;\n",
       "    }\n",
       "\n",
       "    .dataframe tbody tr th {\n",
       "        vertical-align: top;\n",
       "    }\n",
       "\n",
       "    .dataframe thead th {\n",
       "        text-align: right;\n",
       "    }\n",
       "</style>\n",
       "<table border=\"1\" class=\"dataframe\">\n",
       "  <thead>\n",
       "    <tr style=\"text-align: right;\">\n",
       "      <th></th>\n",
       "      <th>lem_text</th>\n",
       "      <th>sexist</th>\n",
       "    </tr>\n",
       "  </thead>\n",
       "  <tbody>\n",
       "    <tr>\n",
       "      <th>0</th>\n",
       "      <td>mention3481 didnt even know random option</td>\n",
       "      <td>0</td>\n",
       "    </tr>\n",
       "    <tr>\n",
       "      <th>1</th>\n",
       "      <td>bottom two shouldve go mkr</td>\n",
       "      <td>0</td>\n",
       "    </tr>\n",
       "    <tr>\n",
       "      <th>2</th>\n",
       "      <td>mention3111 mention3424 ladyboner deserves muc...</td>\n",
       "      <td>0</td>\n",
       "    </tr>\n",
       "    <tr>\n",
       "      <th>3</th>\n",
       "      <td>shall know sourpuss mkr katandre failedfoodies</td>\n",
       "      <td>0</td>\n",
       "    </tr>\n",
       "    <tr>\n",
       "      <th>4</th>\n",
       "      <td>tarah w threw bunch woman bus could get wadhwa...</td>\n",
       "      <td>0</td>\n",
       "    </tr>\n",
       "    <tr>\n",
       "      <th>...</th>\n",
       "      <td>...</td>\n",
       "      <td>...</td>\n",
       "    </tr>\n",
       "    <tr>\n",
       "      <th>13340</th>\n",
       "      <td>reminds mention3079 situation sorry actually d...</td>\n",
       "      <td>0</td>\n",
       "    </tr>\n",
       "    <tr>\n",
       "      <th>13341</th>\n",
       "      <td>mkr love annie loyld like real life disney cou...</td>\n",
       "      <td>0</td>\n",
       "    </tr>\n",
       "    <tr>\n",
       "      <th>13342</th>\n",
       "      <td>u httptcozor0ewahss</td>\n",
       "      <td>0</td>\n",
       "    </tr>\n",
       "    <tr>\n",
       "      <th>13343</th>\n",
       "      <td>mkr way kat look annie like shes stearing soul...</td>\n",
       "      <td>0</td>\n",
       "    </tr>\n",
       "    <tr>\n",
       "      <th>13344</th>\n",
       "      <td>mkr omg kiss stain dirty mirror sooo tacky oh god</td>\n",
       "      <td>0</td>\n",
       "    </tr>\n",
       "  </tbody>\n",
       "</table>\n",
       "<p>13345 rows × 2 columns</p>\n",
       "</div>"
      ],
      "text/plain": [
       "                                                lem_text  sexist\n",
       "0              mention3481 didnt even know random option       0\n",
       "1                             bottom two shouldve go mkr       0\n",
       "2      mention3111 mention3424 ladyboner deserves muc...       0\n",
       "3         shall know sourpuss mkr katandre failedfoodies       0\n",
       "4      tarah w threw bunch woman bus could get wadhwa...       0\n",
       "...                                                  ...     ...\n",
       "13340  reminds mention3079 situation sorry actually d...       0\n",
       "13341  mkr love annie loyld like real life disney cou...       0\n",
       "13342                                u httptcozor0ewahss       0\n",
       "13343  mkr way kat look annie like shes stearing soul...       0\n",
       "13344  mkr omg kiss stain dirty mirror sooo tacky oh god       0\n",
       "\n",
       "[13345 rows x 2 columns]"
      ]
     },
     "execution_count": 52,
     "metadata": {},
     "output_type": "execute_result"
    }
   ],
   "source": [
    "df_lem"
   ]
  },
  {
   "cell_type": "markdown",
   "id": "6e3122d5",
   "metadata": {},
   "source": [
    "# Lem DF - Train"
   ]
  },
  {
   "cell_type": "code",
   "execution_count": 109,
   "id": "7866c138",
   "metadata": {},
   "outputs": [
    {
     "name": "stdout",
     "output_type": "stream",
     "text": [
      "Training set shape: (10008, 2)\n",
      "Testing set shape: (3337, 2)\n"
     ]
    }
   ],
   "source": [
    "from sklearn.model_selection import train_test_split\n",
    "\n",
    "# Split the DataFrame into training and testing sets\n",
    "lem_train_df, lem_test_df = train_test_split(df_lem, test_size=0.25, random_state=42)\n",
    "\n",
    "# Print the shape of the resulting DataFrames\n",
    "print(f\"Training set shape: {lem_train_df.shape}\")\n",
    "print(f\"Testing set shape: {lem_test_df.shape}\")"
   ]
  },
  {
   "cell_type": "code",
   "execution_count": 110,
   "id": "f01e9f93",
   "metadata": {},
   "outputs": [
    {
     "name": "stdout",
     "output_type": "stream",
     "text": [
      "Accuracy: 0.8894\n",
      "Classification Report:\n",
      "              precision    recall  f1-score   support\n",
      "\n",
      "           0       0.91      0.96      0.94      2884\n",
      "           1       0.65      0.41      0.50       453\n",
      "\n",
      "    accuracy                           0.89      3337\n",
      "   macro avg       0.78      0.69      0.72      3337\n",
      "weighted avg       0.88      0.89      0.88      3337\n",
      "\n"
     ]
    }
   ],
   "source": [
    "from sklearn.feature_extraction.text import TfidfVectorizer\n",
    "from sklearn.svm import SVC\n",
    "from sklearn.metrics import classification_report, accuracy_score\n",
    "\n",
    "# Get the training and testing texts and labels\n",
    "lem_train_texts = lem_train_df['lem_text']\n",
    "lem_train_labels = lem_train_df['sexist']\n",
    "lem_test_texts = lem_test_df['lem_text']\n",
    "lem_test_labels = lem_test_df['sexist']\n",
    "\n",
    "# Create a TF-IDF vectorizer\n",
    "vectorizer = TfidfVectorizer()\n",
    "train_features = vectorizer.fit_transform(lem_train_texts)  # Transform the training texts\n",
    "\n",
    "# Transform the testing texts using the same vectorizer\n",
    "test_features = vectorizer.transform(lem_test_texts)\n",
    "\n",
    "# Create an SVM classifier\n",
    "classifier = SVC()\n",
    "\n",
    "# Train the classifier\n",
    "classifier.fit(train_features, lem_train_labels)\n",
    "\n",
    "# Make predictions on the test set\n",
    "predictions = classifier.predict(test_features)\n",
    "\n",
    "# Calculate accuracy\n",
    "accuracy = accuracy_score(lem_test_labels, predictions)\n",
    "print(f\"Accuracy: {accuracy:.4f}\")\n",
    "\n",
    "# Generate classification report\n",
    "report = classification_report(lem_test_labels, predictions)\n",
    "print(\"Classification Report:\")\n",
    "print(report)\n"
   ]
  },
  {
   "cell_type": "code",
   "execution_count": 111,
   "id": "7dea8e1b",
   "metadata": {},
   "outputs": [
    {
     "data": {
      "image/png": "[encoded data removed]",
      "text/plain": [
       "<Figure size 1000x600 with 1 Axes>"
      ]
     },
     "metadata": {},
     "output_type": "display_data"
    }
   ],
   "source": [
    "import numpy as np\n",
    "import matplotlib.pyplot as plt\n",
    "from sklearn.model_selection import learning_curve\n",
    "\n",
    "# Define the SVM classifier\n",
    "classifier = SVC()\n",
    "\n",
    "# Define the train_sizes\n",
    "train_sizes = np.linspace(0.1, 1.0, 10)\n",
    "\n",
    "# Calculate the learning curve scores\n",
    "train_sizes, train_scores, test_scores = learning_curve(classifier, train_features, lem_train_labels, cv=5)\n",
    "\n",
    "# Calculate the mean and standard deviation of the training and testing scores\n",
    "train_mean = np.mean(train_scores, axis=1)\n",
    "train_std = np.std(train_scores, axis=1)\n",
    "test_mean = np.mean(test_scores, axis=1)\n",
    "test_std = np.std(test_scores, axis=1)\n",
    "\n",
    "# Plot the learning curve\n",
    "plt.figure(figsize=(10, 6))\n",
    "plt.title('Learning Curve')\n",
    "plt.xlabel('Training Examples')\n",
    "plt.ylabel('Score')\n",
    "plt.grid(True)\n",
    "plt.fill_between(train_sizes, train_mean - train_std, train_mean + train_std, alpha=0.1, color='b')\n",
    "plt.fill_between(train_sizes, test_mean - test_std, test_mean + test_std, alpha=0.1, color='r')\n",
    "plt.plot(train_sizes, train_mean, 'o-', color='b', label='Training Score')\n",
    "plt.plot(train_sizes, test_mean, 'o-', color='r', label='Cross-Validation Score')\n",
    "plt.ylim(0.5, 1.0)  # Adjust the y-axis limits to make the curves closer\n",
    "plt.legend(loc='best')\n",
    "plt.show()\n"
   ]
  },
  {
   "cell_type": "code",
   "execution_count": 112,
   "id": "03d11044",
   "metadata": {},
   "outputs": [],
   "source": [
    "X_train = lem_train_df['lem_text']\n",
    "y_train = lem_train_df['sexist']\n",
    "X_test = lem_test_df['lem_text']\n",
    "y_test = lem_test_df['sexist']"
   ]
  },
  {
   "cell_type": "code",
   "execution_count": 113,
   "id": "a12021cd",
   "metadata": {},
   "outputs": [],
   "source": [
    "vectorizer = TfidfVectorizer()\n",
    "X_train = vectorizer.fit_transform(X_train)\n",
    "X_test = vectorizer.transform(X_test)\n"
   ]
  },
  {
   "cell_type": "code",
   "execution_count": 114,
   "id": "a2c91ade",
   "metadata": {},
   "outputs": [],
   "source": [
    "xgb_classifier = xgb.XGBClassifier()"
   ]
  },
  {
   "cell_type": "code",
   "execution_count": 115,
   "id": "36f167b6",
   "metadata": {},
   "outputs": [
    {
     "data": {
      "text/plain": [
       "XGBClassifier(base_score=None, booster=None, callbacks=None,\n",
       "              colsample_bylevel=None, colsample_bynode=None,\n",
       "              colsample_bytree=None, early_stopping_rounds=None,\n",
       "              enable_categorical=False, eval_metric=None, feature_types=None,\n",
       "              gamma=None, gpu_id=None, grow_policy=None, importance_type=None,\n",
       "              interaction_constraints=None, learning_rate=None, max_bin=None,\n",
       "              max_cat_threshold=None, max_cat_to_onehot=None,\n",
       "              max_delta_step=None, max_depth=None, max_leaves=None,\n",
       "              min_child_weight=None, missing=nan, monotone_constraints=None,\n",
       "              n_estimators=100, n_jobs=None, num_parallel_tree=None,\n",
       "              predictor=None, random_state=None, ...)"
      ]
     },
     "execution_count": 115,
     "metadata": {},
     "output_type": "execute_result"
    }
   ],
   "source": [
    "xgb_classifier.fit(X_train, y_train)"
   ]
  },
  {
   "cell_type": "code",
   "execution_count": 116,
   "id": "7e94eb11",
   "metadata": {},
   "outputs": [
    {
     "name": "stdout",
     "output_type": "stream",
     "text": [
      "Accuracy: 0.9008\n"
     ]
    }
   ],
   "source": [
    "accuracy = accuracy_score(y_test, y_pred)\n",
    "print(f\"Accuracy: {accuracy:.4f}\")"
   ]
  },
  {
   "cell_type": "code",
   "execution_count": 117,
   "id": "c6531bb7",
   "metadata": {},
   "outputs": [],
   "source": [
    "y_true = lem_test_df['sexist'].values"
   ]
  },
  {
   "cell_type": "code",
   "execution_count": 118,
   "id": "3caa7505",
   "metadata": {},
   "outputs": [],
   "source": [
    "from sklearn.metrics import precision_score\n",
    "precision = precision_score(y_true, y_pred)"
   ]
  },
  {
   "cell_type": "code",
   "execution_count": 119,
   "id": "76c82857",
   "metadata": {},
   "outputs": [
    {
     "data": {
      "text/plain": [
       "0.645933014354067"
      ]
     },
     "execution_count": 119,
     "metadata": {},
     "output_type": "execute_result"
    }
   ],
   "source": [
    "precision"
   ]
  },
  {
   "cell_type": "code",
   "execution_count": 120,
   "id": "e8336b9f",
   "metadata": {},
   "outputs": [
    {
     "data": {
      "text/plain": [
       "0.5960264900662252"
      ]
     },
     "execution_count": 120,
     "metadata": {},
     "output_type": "execute_result"
    }
   ],
   "source": [
    "from sklearn.metrics import recall_score\n",
    "recall = recall_score(y_true, y_pred)\n",
    "recall"
   ]
  },
  {
   "cell_type": "code",
   "execution_count": 121,
   "id": "3f4235e3",
   "metadata": {},
   "outputs": [
    {
     "data": {
      "text/plain": [
       "0.6199770378874857"
      ]
     },
     "execution_count": 121,
     "metadata": {},
     "output_type": "execute_result"
    }
   ],
   "source": [
    "from sklearn.metrics import f1_score\n",
    "f1 = f1_score(y_true, y_pred)\n",
    "f1"
   ]
  },
  {
   "cell_type": "code",
   "execution_count": 122,
   "id": "99032249",
   "metadata": {},
   "outputs": [
    {
     "data": {
      "text/plain": [
       "array([[2736,  148],\n",
       "       [ 183,  270]])"
      ]
     },
     "execution_count": 122,
     "metadata": {},
     "output_type": "execute_result"
    }
   ],
   "source": [
    "from sklearn.metrics import confusion_matrix\n",
    "conf_matrix = confusion_matrix(y_true, y_pred)\n",
    "conf_matrix"
   ]
  },
  {
   "cell_type": "code",
   "execution_count": 123,
   "id": "d1c91416",
   "metadata": {},
   "outputs": [
    {
     "data": {
      "image/png": "[encoded data removed]",
      "text/plain": [
       "<Figure size 1000x600 with 1 Axes>"
      ]
     },
     "metadata": {},
     "output_type": "display_data"
    }
   ],
   "source": [
    "import numpy as np\n",
    "import matplotlib.pyplot as plt\n",
    "from sklearn.model_selection import learning_curve\n",
    "\n",
    "X_train = lem_train_df['lem_text']\n",
    "y_train = lem_train_df['sexist']\n",
    "X_test = lem_test_df['lem_text']\n",
    "y_test = stem_test_df['sexist']\n",
    "\n",
    "vectorizer = TfidfVectorizer()\n",
    "X_train = vectorizer.fit_transform(X_train)\n",
    "X_test = vectorizer.transform(X_test)\n",
    "\n",
    "xgb_classifier = xgb.XGBClassifier()\n",
    "\n",
    "# Define the train_sizes\n",
    "train_sizes = np.linspace(0.1, 1.0, 10)\n",
    "\n",
    "# Calculate the learning curve scores\n",
    "train_sizes, train_scores, test_scores = learning_curve(\n",
    "    xgb_classifier, X_train, y_train, cv=5, train_sizes=train_sizes, scoring='accuracy'\n",
    ")\n",
    "\n",
    "# Calculate the mean and standard deviation of train and test scores\n",
    "train_scores_mean = np.mean(train_scores, axis=1)\n",
    "train_scores_std = np.std(train_scores, axis=1)\n",
    "test_scores_mean = np.mean(test_scores, axis=1)\n",
    "test_scores_std = np.std(test_scores, axis=1)\n",
    "\n",
    "# Plot the learning curve\n",
    "plt.figure(figsize=(10, 6))\n",
    "plt.title('Learning Curve')\n",
    "plt.xlabel('Training Examples')\n",
    "plt.ylabel('Accuracy')\n",
    "plt.grid(True)\n",
    "plt.fill_between(\n",
    "    train_sizes, train_scores_mean - train_scores_std, train_scores_mean + train_scores_std,\n",
    "    alpha=0.1, color='b'\n",
    ")\n",
    "plt.fill_between(\n",
    "    train_sizes, test_scores_mean - test_scores_std, test_scores_mean + test_scores_std,\n",
    "    alpha=0.1, color='r'\n",
    ")\n",
    "plt.plot(train_sizes, train_scores_mean, 'o-', color='b', label='Training Accuracy')\n",
    "plt.plot(train_sizes, test_scores_mean, 'o-', color='r', label='Validation Accuracy')\n",
    "plt.ylim(0.5, 1.0)  # Adjust the y-axis limits to make the curves closer\n",
    "plt.legend(loc='best')\n",
    "plt.show()\n"
   ]
  },
  {
   "cell_type": "code",
   "execution_count": 124,
   "id": "70d514a8",
   "metadata": {},
   "outputs": [
    {
     "name": "stdout",
     "output_type": "stream",
     "text": [
      "Accuracy: 0.9008\n",
      "Precision: 0.6459\n",
      "Recall: 0.5960\n",
      "F1-Score: 0.6200\n",
      "              precision    recall  f1-score   support\n",
      "\n",
      "           0       0.94      0.95      0.94      2884\n",
      "           1       0.65      0.60      0.62       453\n",
      "\n",
      "    accuracy                           0.90      3337\n",
      "   macro avg       0.79      0.77      0.78      3337\n",
      "weighted avg       0.90      0.90      0.90      3337\n",
      "\n"
     ]
    }
   ],
   "source": [
    "accuracy = accuracy_score(y_test, y_pred)\n",
    "print(f\"Accuracy: {accuracy:.4f}\")\n",
    "\n",
    "# Calculate precision, recall, and F1-score\n",
    "precision = precision_score(y_test, y_pred)\n",
    "recall = recall_score(y_test, y_pred)\n",
    "f1 = f1_score(y_test, y_pred)\n",
    "\n",
    "# Print the metrics\n",
    "print(f\"Precision: {precision:.4f}\")\n",
    "print(f\"Recall: {recall:.4f}\")\n",
    "print(f\"F1-Score: {f1:.4f}\")\n",
    "\n",
    "# Generate classification report\n",
    "report = classification_report(y_test, y_pred)\n",
    "print(report)\n"
   ]
  },
  {
   "cell_type": "code",
   "execution_count": null,
   "id": "9e61b9b2",
   "metadata": {},
   "outputs": [],
   "source": []
  }
 ],
 "metadata": {
  "kernelspec": {
   "display_name": "Python 3 (ipykernel)",
   "language": "python",
   "name": "python3"
  },
  "language_info": {
   "codemirror_mode": {
    "name": "ipython",
    "version": 3
   },
   "file_extension": ".py",
   "mimetype": "text/x-python",
   "name": "python",
   "nbconvert_exporter": "python",
   "pygments_lexer": "ipython3",
   "version": "3.9.13"
  }
 },
 "nbformat": 4,
 "nbformat_minor": 5
}
