{
 "cells": [
  {
   "cell_type": "code",
   "execution_count": null,
   "id": "84f4eb4d",
   "metadata": {},
   "outputs": [
    {
     "name": "stdout",
     "output_type": "stream",
     "text": [
      "Enter a text to classify (or 'exit' to quit): women are bad at driving\n",
      "Classification result: Non-Sexist\n",
      "Enter a text to classify (or 'exit' to quit): flowers are great\n",
      "Classification result: Non-Sexist\n",
      "Enter a text to classify (or 'exit' to quit): nice outfits\n",
      "Classification result: Non-Sexist\n",
      "Enter a text to classify (or 'exit' to quit): nice boobs slut\n",
      "Classification result: Non-Sexist\n",
      "Enter a text to classify (or 'exit' to quit): all men suck\n",
      "Classification result: Sexist\n",
      "Enter a text to classify (or 'exit' to quit): i think men need to die\n",
      "Classification result: Non-Sexist\n",
      "Enter a text to classify (or 'exit' to quit): all women are grat\n",
      "Classification result: Sexist\n",
      "Enter a text to classify (or 'exit' to quit): call me sexist but the bvg should improve\n",
      "Classification result: Non-Sexist\n",
      "Enter a text to classify (or 'exit' to quit): that;s a good \n",
      "Classification result: Non-Sexist\n"
     ]
    }
   ],
   "source": [
    "import numpy as np\n",
    "import pandas as pd\n",
    "import xgboost as xgb\n",
    "from sklearn.feature_extraction.text import TfidfVectorizer\n",
    "\n",
    "# Load the processed dataset\n",
    "processed_df = pd.read_csv(\"processed_dataset.csv\")\n",
    "processed_df['sexist'] = processed_df['sexist'].astype(int)\n",
    "\n",
    "# Create a TfidfVectorizer\n",
    "vectorizer = TfidfVectorizer()\n",
    "\n",
    "# Transform the text data\n",
    "X = vectorizer.fit_transform(processed_df['processed_text'])\n",
    "y = processed_df['sexist']\n",
    "\n",
    "# Train the XGBoost classifier\n",
    "xgb_classifier = xgb.XGBClassifier()\n",
    "xgb_classifier.fit(X, y)\n",
    "\n",
    "# Function to classify user input\n",
    "def classify_input(text):\n",
    "    # Transform the input using the same vectorizer\n",
    "    transformed_text = vectorizer.transform([text])\n",
    "    # Predict the class label\n",
    "    prediction = xgb_classifier.predict(transformed_text)[0]\n",
    "    # Return the prediction\n",
    "    return \"Sexist\" if prediction == 1 else \"Non-Sexist\"\n",
    "\n",
    "# User input loop\n",
    "while True:\n",
    "    user_input = input(\"Enter a text to classify (or 'exit' to quit): \")\n",
    "    if user_input.lower() == 'exit':\n",
    "        break\n",
    "    result = classify_input(user_input)\n",
    "    print(f\"Classification result: {result}\")\n"
   ]
  },
  {
   "cell_type": "code",
   "execution_count": null,
   "id": "c020038a",
   "metadata": {},
   "outputs": [],
   "source": [
    "\n"
   ]
  }
 ],
 "metadata": {
  "kernelspec": {
   "display_name": "Python 3 (ipykernel)",
   "language": "python",
   "name": "python3"
  },
  "language_info": {
   "codemirror_mode": {
    "name": "ipython",
    "version": 3
   },
   "file_extension": ".py",
   "mimetype": "text/x-python",
   "name": "python",
   "nbconvert_exporter": "python",
   "pygments_lexer": "ipython3",
   "version": "3.9.13"
  }
 },
 "nbformat": 4,
 "nbformat_minor": 5
}
