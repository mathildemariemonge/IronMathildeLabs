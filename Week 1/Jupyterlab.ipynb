{
 "cells": [
  {
   "cell_type": "markdown",
   "id": "20365f00",
   "metadata": {},
   "source": [
    "# Frederik's favorite holidays destination"
   ]
  },
  {
   "cell_type": "markdown",
   "id": "c714528b",
   "metadata": {},
   "source": [
    "This notebook describes Frederik's favorite holiday destination"
   ]
  },
  {
   "cell_type": "code",
   "execution_count": null,
   "id": "0508e488",
   "metadata": {
    "scrolled": true
   },
   "outputs": [],
   "source": [
    "name = input(\"Enter classmate's name to find out their favorite holiday destination: \")"
   ]
  },
  {
   "cell_type": "markdown",
   "id": "a57200fa",
   "metadata": {},
   "source": []
  }
 ],
 "metadata": {
  "kernelspec": {
   "display_name": "Python 3 (ipykernel)",
   "language": "python",
   "name": "python3"
  },
  "language_info": {
   "codemirror_mode": {
    "name": "ipython",
    "version": 3
   },
   "file_extension": ".py",
   "mimetype": "text/x-python",
   "name": "python",
   "nbconvert_exporter": "python",
   "pygments_lexer": "ipython3",
   "version": "3.9.13"
  }
 },
 "nbformat": 4,
 "nbformat_minor": 5
}
