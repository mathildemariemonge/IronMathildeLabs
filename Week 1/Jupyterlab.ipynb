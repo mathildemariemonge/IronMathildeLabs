{
 "cells": [
  {
   "cell_type": "markdown",
   "id": "aad45492",
   "metadata": {
    "slideshow": {
     "slide_type": "slide"
    }
   },
   "source": [
    "# Frederik's favorite holidays destination"
   ]
  },
  {
   "cell_type": "code",
   "execution_count": null,
   "id": "f3476c2c",
   "metadata": {
    "slideshow": {
     "slide_type": "subslide"
    }
   },
   "outputs": [],
   "source": [
    "print('Enter the name of a classmate: ')\n",
    "name = input()\n",
    "    if:\n",
    "        name = Frederik\n",
    "        print(name +'loves Mexico')\n",
    "    else:\n",
    "        print('Sorry, we have no information on this classmate')\n",
    "        \n",
    "#I have used an if statement as basic error handling for the program above"
   ]
  },
  {
   "cell_type": "markdown",
   "id": "42350249",
   "metadata": {
    "slideshow": {
     "slide_type": "slide"
    }
   },
   "source": [
    "Purpose: This notebook describes Frederik's favorite holiday destination"
   ]
  },
  {
   "cell_type": "markdown",
   "id": "3e64323a",
   "metadata": {
    "slideshow": {
     "slide_type": "subslide"
    }
   },
   "source": [
    "## TOC:\n",
    "* [Meet Frederik](#first-bullet)\n",
    "* [Frederik's favorite holiday destination](#second-bullet)\n",
    "* [Visit Mexico](#third-bullet)\n",
    "* [Three cool things about Mexico](#fourth-bullet)"
   ]
  },
  {
   "cell_type": "markdown",
   "id": "f69172ff",
   "metadata": {
    "slideshow": {
     "slide_type": "slide"
    }
   },
   "source": [
    "## Meet Frederik <a class=\"anchor\" id=\"first-bullet\"></a>\n",
    "For privacy purposes, I won't share a picture of him, but he sort of looks like <span style=\"color:red\"> Clark Kent.</span>\n",
    "\n",
    "![Foo](https://sites.rutgers.edu/demo-project/wp-content/uploads/sites/16/2017/12/christopher-reeve-superman.jpg)"
   ]
  },
  {
   "cell_type": "markdown",
   "id": "e7a5e00a",
   "metadata": {
    "slideshow": {
     "slide_type": "slide"
    }
   },
   "source": [
    "## Frederik's favorite holiday destination <a class=\"anchor\" id=\"second-bullet\"></a>\n",
    "Frederik's favorite holiday destination is Mexico, which is a beautiful country located in Latin America.\n",
    "\n",
    "![Foo](https://www.orangesmile.com/common/img_country_maps_provinces/mexico-country-map-provinces-0.jpg)"
   ]
  },
  {
   "cell_type": "markdown",
   "id": "14c4e725",
   "metadata": {
    "slideshow": {
     "slide_type": "slide"
    }
   },
   "source": [
    "## Visit Mexico <a class=\"anchor\" id=\"third-bullet\"></a>\n",
    "Below is a video to make you want to visit Mexico as well. Trigger warning: if you are in Berlin in March, these images may cause a desire to leave everything behind!\n",
    "[![IMAGE_ALT](https://img.youtube.com/vi/OcEse_9US8c/0.jpg)](https://www.youtube.com/watch?v=OcEse_9US8c)"
   ]
  },
  {
   "cell_type": "markdown",
   "id": "fb30c49d",
   "metadata": {
    "slideshow": {
     "slide_type": "slide"
    }
   },
   "source": [
    "## Three cool things about Mexico <a class=\"anchor\" id=\"fourth-bullet\"></a>\n",
    "Three ***cool things*** about Mexico:\n",
    "<ol>\n",
    "  <li>The food</li>\n",
    "  <li>The weather</li>\n",
    "  <li>The landscapes</li>\n",
    "</ol>"
   ]
  }
 ],
 "metadata": {
  "celltoolbar": "Slideshow",
  "kernelspec": {
   "display_name": "Python 3 (ipykernel)",
   "language": "python",
   "name": "python3"
  },
  "language_info": {
   "codemirror_mode": {
    "name": "ipython",
    "version": 3
   },
   "file_extension": ".py",
   "mimetype": "text/x-python",
   "name": "python",
   "nbconvert_exporter": "python",
   "pygments_lexer": "ipython3",
   "version": "3.9.13"
  }
 },
 "nbformat": 4,
 "nbformat_minor": 5
}
