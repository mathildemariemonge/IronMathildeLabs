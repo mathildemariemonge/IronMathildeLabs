{
 "cells": [
  {
   "cell_type": "code",
   "execution_count": 1,
   "id": "a7ef2ddc",
   "metadata": {},
   "outputs": [],
   "source": [
    "import pandas as pd\n",
    "import numpy as np\n",
    "import statistics as stat\n",
    "import random as rand \n",
    "import matplotlib.pyplot as plt\n",
    "import seaborn as sns\n",
    "import sklearn\n",
    "%matplotlib inline"
   ]
  },
  {
   "cell_type": "code",
   "execution_count": 2,
   "id": "c64f1f76",
   "metadata": {},
   "outputs": [],
   "source": [
    "customer_df= pd.read_csv(\"Data_Marketing_Customer_Analysis_Round3.csv\")\n",
    "customer_df\n",
    "numericals = customer_df.select_dtypes(include=[np.number])\n",
    "categoricals = customer_df.select_dtypes(exclude=[np.number])"
   ]
  },
  {
   "cell_type": "code",
   "execution_count": 3,
   "id": "7ea36067",
   "metadata": {},
   "outputs": [
    {
     "name": "stdout",
     "output_type": "stream",
     "text": [
      "       customer_lifetime_value  income  monthly_premium_auto  \\\n",
      "0                         4809   48029                    61   \n",
      "1                         2228   92260                    64   \n",
      "2                        14947   22139                   100   \n",
      "3                        22332   49078                    97   \n",
      "4                         9025   23675                   117   \n",
      "...                        ...     ...                   ...   \n",
      "10684                    15563   61541                   253   \n",
      "10685                     5259   61146                    65   \n",
      "10686                    23893   39837                   201   \n",
      "10687                    11971   64195                   158   \n",
      "10688                     6857   68942                   101   \n",
      "\n",
      "       months_since_last_claim  months_since_policy_inception  \\\n",
      "0                            7                             52   \n",
      "1                            3                             26   \n",
      "2                           34                             31   \n",
      "3                           10                              3   \n",
      "4                           33                             31   \n",
      "...                        ...                            ...   \n",
      "10684                       12                             40   \n",
      "10685                        7                             68   \n",
      "10686                       11                             63   \n",
      "10687                        0                             27   \n",
      "10688                       31                              1   \n",
      "\n",
      "       number_of_open_complaints  number_of_policies  total_claim_amount  \n",
      "0                              0                   9                 292  \n",
      "1                              0                   1                 744  \n",
      "2                              0                   2                 480  \n",
      "3                              0                   2                 484  \n",
      "4                              0                   7                 707  \n",
      "...                          ...                 ...                 ...  \n",
      "10684                          0                   7                1214  \n",
      "10685                          0                   6                 273  \n",
      "10686                          0                   2                 381  \n",
      "10687                          4                   6                 618  \n",
      "10688                          0                   3                1021  \n",
      "\n",
      "[10689 rows x 8 columns]\n"
     ]
    }
   ],
   "source": [
    "print(numericals)"
   ]
  },
  {
   "cell_type": "code",
   "execution_count": null,
   "id": "1af648f3",
   "metadata": {},
   "outputs": [],
   "source": []
  }
 ],
 "metadata": {
  "kernelspec": {
   "display_name": "Python 3 (ipykernel)",
   "language": "python",
   "name": "python3"
  },
  "language_info": {
   "codemirror_mode": {
    "name": "ipython",
    "version": 3
   },
   "file_extension": ".py",
   "mimetype": "text/x-python",
   "name": "python",
   "nbconvert_exporter": "python",
   "pygments_lexer": "ipython3",
   "version": "3.9.13"
  }
 },
 "nbformat": 4,
 "nbformat_minor": 5
}
