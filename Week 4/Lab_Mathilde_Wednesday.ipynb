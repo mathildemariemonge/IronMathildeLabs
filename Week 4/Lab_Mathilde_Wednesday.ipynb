{
 "cells": [
  {
   "cell_type": "code",
   "execution_count": 1,
   "id": "7d89c83c",
   "metadata": {},
   "outputs": [],
   "source": [
    "import numpy as np\n",
    "import pandas as pd\n",
    "import matplotlib.pyplot as plt\n",
    "%matplotlib inline\n",
    "import seaborn as sns\n",
    "from sklearn.preprocessing import StandardScaler\n",
    "from sklearn.preprocessing import PowerTransformer\n",
    "from sklearn.compose import ColumnTransformer\n",
    "from sklearn.linear_model import LinearRegression\n",
    "from sklearn.model_selection import train_test_split\n",
    "\n",
    "import statsmodels.api as sm\n",
    "from sklearn.metrics import r2_score\n",
    "from sklearn.metrics import mean_squared_error as mse\n",
    "from sklearn.metrics import mean_absolute_error as mae\n",
    "pd.options.display.max_rows = 50"
   ]
  },
  {
   "cell_type": "code",
   "execution_count": 3,
   "id": "e33a7499",
   "metadata": {},
   "outputs": [
    {
     "name": "stderr",
     "output_type": "stream",
     "text": [
      "/var/folders/n_/mqs2n84x0k3g_vz_3dbgh2yr0000gp/T/ipykernel_83689/1632068694.py:10: DeprecationWarning: `np.object` is a deprecated alias for the builtin `object`. To silence this warning, use `object` by itself. Doing this will not modify any behavior and is safe. \n",
      "Deprecated in NumPy 1.20; for more details and guidance: https://numpy.org/devdocs/release/1.20.0-notes.html#deprecations\n",
      "  categoricalX = X.select_dtypes(np.object)\n"
     ]
    }
   ],
   "source": [
    "cu_df= pd.read_csv(\"Data_Marketing_Customer_Analysis_Round3.csv\")\n",
    "\n",
    "numericals = cu_df.select_dtypes(include=[np.number])\n",
    "categoricals = cu_df.select_dtypes(exclude=[np.number])\n",
    "\n",
    "X = cu_df.drop('total_claim_amount', axis=1)\n",
    "y = cu_df.total_claim_amount\n",
    "\n",
    "numericalX = X.select_dtypes(np.number)\n",
    "categoricalX = X.select_dtypes(np.object)"
   ]
  },
  {
   "cell_type": "code",
   "execution_count": 4,
   "id": "244630a8",
   "metadata": {},
   "outputs": [],
   "source": [
    "X_train, X_test, y_train, y_test = train_test_split(cu_df.drop('total_claim_amount', axis=1), cu_df['total_claim_amount'], test_size=0.2, random_state=42)\n"
   ]
  },
  {
   "cell_type": "code",
   "execution_count": 5,
   "id": "2143aac6",
   "metadata": {},
   "outputs": [],
   "source": [
    "from scipy.stats import iqr\n",
    "def remove_outliers(cu_df):\n",
    "    for c in cu_df.columns:\n",
    "            pct_75 = np.percentile(cu_df[c], 75)\n",
    "            pct_25 = np.percentile(cu_df[c], 25)\n",
    "            upper_bound = pct_75 + 1.5*iqr(cu_df[c])\n",
    "            lower_bound = pct_25 - 1.5*iqr(cu_df[c])\n",
    "            condition = (cu_df[c] < upper_bound) & (cu_df[c] > lower_bound)\n",
    "            cu_df[c] = cu_df[c][condition]  # Filter out the outliers\n",
    "    return cu_df"
   ]
  },
  {
   "cell_type": "code",
   "execution_count": null,
   "id": "fd914fd5",
   "metadata": {},
   "outputs": [],
   "source": [
    "X = pd.concat([pd.get_dummies(X[categoricalX.columns],drop_first=True),\n",
    "               remove_outliers(X[numericalX.columns])],\n",
    "              axis=1)"
   ]
  },
  {
   "cell_type": "code",
   "execution_count": 6,
   "id": "c7d17024",
   "metadata": {},
   "outputs": [
    {
     "data": {
      "text/plain": [
       "<seaborn.axisgrid.FacetGrid at 0x7fca2c444fd0>"
      ]
     },
     "execution_count": 6,
     "metadata": {},
     "output_type": "execute_result"
    },
    {
     "data": {
      "image/png": "[encoded data removed]",
      "text/plain": [
       "<Figure size 558.875x500 with 1 Axes>"
      ]
     },
     "metadata": {},
     "output_type": "display_data"
    }
   ],
   "source": [
    "\n",
    "#scaler = StandardScaler()\n",
    "#scaler.fit(X_train)\n",
    "#X_train_scaled = scaler.transform(X_train)\n",
    "#X_test_scaled = scaler.transform(X_test)\n",
    "\n",
    "pt = PowerTransformer()\n",
    "totalclaim_transformed=pt.fit_transform(cu_df['total_claim_amount'].to_numpy().reshape(-1,1))\n",
    "sns.displot(totalclaim_transformed)"
   ]
  },
  {
   "cell_type": "code",
   "execution_count": 7,
   "id": "c49cc367",
   "metadata": {},
   "outputs": [
    {
     "name": "stdout",
     "output_type": "stream",
     "text": [
      "[ColumnTransformer] ............ (1 of 1) Processing pt, total=   0.1s\n"
     ]
    }
   ],
   "source": [
    "ct = ColumnTransformer([(\"pt\", pt, list(numericalX.columns))],\n",
    "                        remainder='drop',verbose_feature_names_out=True,verbose=True).fit(X_train)\n",
    "X_train_ct = pd.DataFrame(ct.transform(X_train),columns=ct.get_feature_names_out())\n",
    "X_test_ct = pd.DataFrame(ct.transform(X_test),columns=ct.get_feature_names_out())"
   ]
  },
  {
   "cell_type": "code",
   "execution_count": 8,
   "id": "7f6690c4",
   "metadata": {},
   "outputs": [
    {
     "data": {
      "text/html": [
       "<div>\n",
       "<style scoped>\n",
       "    .dataframe tbody tr th:only-of-type {\n",
       "        vertical-align: middle;\n",
       "    }\n",
       "\n",
       "    .dataframe tbody tr th {\n",
       "        vertical-align: top;\n",
       "    }\n",
       "\n",
       "    .dataframe thead th {\n",
       "        text-align: right;\n",
       "    }\n",
       "</style>\n",
       "<table border=\"1\" class=\"dataframe\">\n",
       "  <thead>\n",
       "    <tr style=\"text-align: right;\">\n",
       "      <th></th>\n",
       "      <th>pt__customer_lifetime_value</th>\n",
       "      <th>pt__income</th>\n",
       "      <th>pt__monthly_premium_auto</th>\n",
       "      <th>pt__months_since_last_claim</th>\n",
       "      <th>pt__months_since_policy_inception</th>\n",
       "      <th>pt__number_of_open_complaints</th>\n",
       "      <th>pt__number_of_policies</th>\n",
       "    </tr>\n",
       "  </thead>\n",
       "  <tbody>\n",
       "    <tr>\n",
       "      <th>0</th>\n",
       "      <td>-0.313260</td>\n",
       "      <td>0.865977</td>\n",
       "      <td>-1.535708</td>\n",
       "      <td>-1.948892</td>\n",
       "      <td>1.036302</td>\n",
       "      <td>-0.504231</td>\n",
       "      <td>1.126951</td>\n",
       "    </tr>\n",
       "    <tr>\n",
       "      <th>1</th>\n",
       "      <td>0.678873</td>\n",
       "      <td>-0.257692</td>\n",
       "      <td>1.005081</td>\n",
       "      <td>-0.349713</td>\n",
       "      <td>1.036302</td>\n",
       "      <td>-0.504231</td>\n",
       "      <td>0.509194</td>\n",
       "    </tr>\n",
       "    <tr>\n",
       "      <th>2</th>\n",
       "      <td>-1.092136</td>\n",
       "      <td>0.721535</td>\n",
       "      <td>-0.161073</td>\n",
       "      <td>-1.948892</td>\n",
       "      <td>-0.016501</td>\n",
       "      <td>-0.504231</td>\n",
       "      <td>-1.148679</td>\n",
       "    </tr>\n",
       "    <tr>\n",
       "      <th>3</th>\n",
       "      <td>-0.245562</td>\n",
       "      <td>0.464816</td>\n",
       "      <td>-1.251406</td>\n",
       "      <td>0.579080</td>\n",
       "      <td>-2.088503</td>\n",
       "      <td>1.939188</td>\n",
       "      <td>0.509194</td>\n",
       "    </tr>\n",
       "    <tr>\n",
       "      <th>4</th>\n",
       "      <td>0.550119</td>\n",
       "      <td>-0.094361</td>\n",
       "      <td>2.002861</td>\n",
       "      <td>-1.116508</td>\n",
       "      <td>-0.927869</td>\n",
       "      <td>1.939188</td>\n",
       "      <td>-1.148679</td>\n",
       "    </tr>\n",
       "    <tr>\n",
       "      <th>...</th>\n",
       "      <td>...</td>\n",
       "      <td>...</td>\n",
       "      <td>...</td>\n",
       "      <td>...</td>\n",
       "      <td>...</td>\n",
       "      <td>...</td>\n",
       "      <td>...</td>\n",
       "    </tr>\n",
       "    <tr>\n",
       "      <th>2133</th>\n",
       "      <td>-0.852546</td>\n",
       "      <td>-1.825015</td>\n",
       "      <td>0.433657</td>\n",
       "      <td>1.386884</td>\n",
       "      <td>-0.641640</td>\n",
       "      <td>-0.504231</td>\n",
       "      <td>-1.148679</td>\n",
       "    </tr>\n",
       "    <tr>\n",
       "      <th>2134</th>\n",
       "      <td>0.525369</td>\n",
       "      <td>0.811961</td>\n",
       "      <td>0.713690</td>\n",
       "      <td>1.038512</td>\n",
       "      <td>-1.194401</td>\n",
       "      <td>-0.504231</td>\n",
       "      <td>0.509194</td>\n",
       "    </tr>\n",
       "    <tr>\n",
       "      <th>2135</th>\n",
       "      <td>-0.649299</td>\n",
       "      <td>1.230545</td>\n",
       "      <td>0.939407</td>\n",
       "      <td>-0.829156</td>\n",
       "      <td>0.886206</td>\n",
       "      <td>-0.504231</td>\n",
       "      <td>-1.148679</td>\n",
       "    </tr>\n",
       "    <tr>\n",
       "      <th>2136</th>\n",
       "      <td>0.326995</td>\n",
       "      <td>-0.700978</td>\n",
       "      <td>0.398393</td>\n",
       "      <td>0.326979</td>\n",
       "      <td>-0.228232</td>\n",
       "      <td>-0.504231</td>\n",
       "      <td>1.572580</td>\n",
       "    </tr>\n",
       "    <tr>\n",
       "      <th>2137</th>\n",
       "      <td>0.825213</td>\n",
       "      <td>0.899592</td>\n",
       "      <td>1.246626</td>\n",
       "      <td>1.584094</td>\n",
       "      <td>0.052320</td>\n",
       "      <td>-0.504231</td>\n",
       "      <td>0.509194</td>\n",
       "    </tr>\n",
       "  </tbody>\n",
       "</table>\n",
       "<p>2138 rows × 7 columns</p>\n",
       "</div>"
      ],
      "text/plain": [
       "      pt__customer_lifetime_value  pt__income  pt__monthly_premium_auto  \\\n",
       "0                       -0.313260    0.865977                 -1.535708   \n",
       "1                        0.678873   -0.257692                  1.005081   \n",
       "2                       -1.092136    0.721535                 -0.161073   \n",
       "3                       -0.245562    0.464816                 -1.251406   \n",
       "4                        0.550119   -0.094361                  2.002861   \n",
       "...                           ...         ...                       ...   \n",
       "2133                    -0.852546   -1.825015                  0.433657   \n",
       "2134                     0.525369    0.811961                  0.713690   \n",
       "2135                    -0.649299    1.230545                  0.939407   \n",
       "2136                     0.326995   -0.700978                  0.398393   \n",
       "2137                     0.825213    0.899592                  1.246626   \n",
       "\n",
       "      pt__months_since_last_claim  pt__months_since_policy_inception  \\\n",
       "0                       -1.948892                           1.036302   \n",
       "1                       -0.349713                           1.036302   \n",
       "2                       -1.948892                          -0.016501   \n",
       "3                        0.579080                          -2.088503   \n",
       "4                       -1.116508                          -0.927869   \n",
       "...                           ...                                ...   \n",
       "2133                     1.386884                          -0.641640   \n",
       "2134                     1.038512                          -1.194401   \n",
       "2135                    -0.829156                           0.886206   \n",
       "2136                     0.326979                          -0.228232   \n",
       "2137                     1.584094                           0.052320   \n",
       "\n",
       "      pt__number_of_open_complaints  pt__number_of_policies  \n",
       "0                         -0.504231                1.126951  \n",
       "1                         -0.504231                0.509194  \n",
       "2                         -0.504231               -1.148679  \n",
       "3                          1.939188                0.509194  \n",
       "4                          1.939188               -1.148679  \n",
       "...                             ...                     ...  \n",
       "2133                      -0.504231               -1.148679  \n",
       "2134                      -0.504231                0.509194  \n",
       "2135                      -0.504231               -1.148679  \n",
       "2136                      -0.504231                1.572580  \n",
       "2137                      -0.504231                0.509194  \n",
       "\n",
       "[2138 rows x 7 columns]"
      ]
     },
     "execution_count": 8,
     "metadata": {},
     "output_type": "execute_result"
    }
   ],
   "source": [
    "X_train = pd.DataFrame(X_train_ct)\n",
    "X_test_ct"
   ]
  },
  {
   "cell_type": "code",
   "execution_count": 9,
   "id": "79d1ebab",
   "metadata": {},
   "outputs": [
    {
     "name": "stdout",
     "output_type": "stream",
     "text": [
      "                            OLS Regression Results                            \n",
      "==============================================================================\n",
      "Dep. Variable:     total_claim_amount   R-squared:                       0.313\n",
      "Model:                            OLS   Adj. R-squared:                  0.313\n",
      "Method:                 Least Squares   F-statistic:                     556.6\n",
      "Date:                Wed, 12 Apr 2023   Prob (F-statistic):               0.00\n",
      "Time:                        17:11:42   Log-Likelihood:                -59139.\n",
      "No. Observations:                8551   AIC:                         1.183e+05\n",
      "Df Residuals:                    8543   BIC:                         1.183e+05\n",
      "Df Model:                           7                                         \n",
      "Covariance Type:            nonrobust                                         \n",
      "==============================================================================\n",
      "                 coef    std err          t      P>|t|      [0.025      0.975]\n",
      "------------------------------------------------------------------------------\n",
      "const        432.7827      2.640    163.959      0.000     427.608     437.957\n",
      "x1            -2.7161      3.554     -0.764      0.445      -9.683       4.251\n",
      "x2           -36.2981      2.641    -13.742      0.000     -41.476     -31.120\n",
      "x3           162.0843      3.139     51.633      0.000     155.931     168.238\n",
      "x4             2.0746      2.643      0.785      0.432      -3.106       7.255\n",
      "x5            -1.2981      2.642     -0.491      0.623      -6.477       3.881\n",
      "x6            -2.8920      2.641     -1.095      0.274      -8.069       2.285\n",
      "x7             0.9630      3.133      0.307      0.759      -5.179       7.105\n",
      "==============================================================================\n",
      "Omnibus:                     2053.213   Durbin-Watson:                   2.001\n",
      "Prob(Omnibus):                  0.000   Jarque-Bera (JB):            11953.415\n",
      "Skew:                           1.024   Prob(JB):                         0.00\n",
      "Kurtosis:                       8.418   Cond. No.                         2.25\n",
      "==============================================================================\n",
      "\n",
      "Notes:\n",
      "[1] Standard Errors assume that the covariance matrix of the errors is correctly specified.\n"
     ]
    }
   ],
   "source": [
    "X_train_const_ct = sm.add_constant(X_train_ct.to_numpy()) # adding a constant\n",
    "\n",
    "model = sm.OLS(y_train, X_train_const_ct).fit()   #stats models is the sm \n",
    "predictions_train = model.predict(X_train_const_ct)\n",
    "\n",
    "X_test_const_ct = sm.add_constant(X_test_ct) # adding a constant\n",
    "predictions_test = model.predict(X_test_const_ct)\n",
    "print_model = model.summary()\n",
    "print(print_model)"
   ]
  },
  {
   "cell_type": "code",
   "execution_count": 10,
   "id": "a3baba8f",
   "metadata": {},
   "outputs": [
    {
     "data": {
      "text/plain": [
       "LinearRegression()"
      ]
     },
     "execution_count": 10,
     "metadata": {},
     "output_type": "execute_result"
    }
   ],
   "source": [
    "model=LinearRegression()    # model\n",
    "model.fit(X_train_ct, y_train)"
   ]
  },
  {
   "cell_type": "code",
   "execution_count": 11,
   "id": "8cf8196c",
   "metadata": {},
   "outputs": [],
   "source": [
    "y_pred = pd.DataFrame(model.predict(X_test_ct),columns = ['total_claim_amount'] )      # model prediction for test set\n",
    "y_pred_train =  pd.DataFrame(model.predict(X_train_ct),columns = ['total_claim_amount'])"
   ]
  },
  {
   "cell_type": "code",
   "execution_count": 12,
   "id": "bf821781",
   "metadata": {},
   "outputs": [
    {
     "data": {
      "text/plain": [
       "array([ -2.71614498, -36.29813171, 162.08426223,   2.07457984,\n",
       "        -1.29805377,  -2.89204253,   0.96297564])"
      ]
     },
     "execution_count": 12,
     "metadata": {},
     "output_type": "execute_result"
    }
   ],
   "source": [
    "model.coef_"
   ]
  },
  {
   "cell_type": "code",
   "execution_count": 13,
   "id": "806f6ea5",
   "metadata": {},
   "outputs": [
    {
     "data": {
      "text/plain": [
       "432.78271547191827"
      ]
     },
     "execution_count": 13,
     "metadata": {},
     "output_type": "execute_result"
    }
   ],
   "source": [
    "model.intercept_"
   ]
  },
  {
   "cell_type": "code",
   "execution_count": 14,
   "id": "f6823551",
   "metadata": {},
   "outputs": [
    {
     "data": {
      "text/plain": [
       "<seaborn.axisgrid.FacetGrid at 0x7fca2bc08310>"
      ]
     },
     "execution_count": 14,
     "metadata": {},
     "output_type": "execute_result"
    },
    {
     "data": {
      "image/png": "[encoded data removed]",
      "text/plain": [
       "<Figure size 687.125x500 with 1 Axes>"
      ]
     },
     "metadata": {},
     "output_type": "display_data"
    }
   ],
   "source": [
    "sns.displot(y_pred)"
   ]
  },
  {
   "cell_type": "code",
   "execution_count": 15,
   "id": "e9026417",
   "metadata": {},
   "outputs": [
    {
     "name": "stdout",
     "output_type": "stream",
     "text": [
      "56887.588063601776\n",
      "166.09915795541707\n",
      "59522.59631997504\n"
     ]
    }
   ],
   "source": [
    "print(mse(y_test,y_pred))\n",
    "print(mae(y_test,y_pred))\n",
    "##prediction on the train set\n",
    "print(mse(y_train,y_pred_train))"
   ]
  },
  {
   "cell_type": "code",
   "execution_count": 16,
   "id": "e737f270",
   "metadata": {},
   "outputs": [
    {
     "data": {
      "text/plain": [
       "0.2992212238943517"
      ]
     },
     "execution_count": 16,
     "metadata": {},
     "output_type": "execute_result"
    }
   ],
   "source": [
    "R2=r2_score(y_test,y_pred)\n",
    "R2"
   ]
  },
  {
   "cell_type": "code",
   "execution_count": 17,
   "id": "77904f46",
   "metadata": {},
   "outputs": [
    {
     "data": {
      "text/plain": [
       "0.2915968568884718"
      ]
     },
     "execution_count": 17,
     "metadata": {},
     "output_type": "execute_result"
    }
   ],
   "source": [
    "R2_test=model.score(X_test_ct,y_test)\n",
    "R2_train=model.score(X_train_ct,y_train)\n",
    "Adj_R2= 1 - (1-R2)*(len(y_test)-1)/(len(y_test)-X_test.shape[1]-1)\n",
    "Adj_R2"
   ]
  },
  {
   "cell_type": "code",
   "execution_count": 18,
   "id": "86574749",
   "metadata": {},
   "outputs": [
    {
     "data": {
      "text/html": [
       "<div>\n",
       "<style scoped>\n",
       "    .dataframe tbody tr th:only-of-type {\n",
       "        vertical-align: middle;\n",
       "    }\n",
       "\n",
       "    .dataframe tbody tr th {\n",
       "        vertical-align: top;\n",
       "    }\n",
       "\n",
       "    .dataframe thead th {\n",
       "        text-align: right;\n",
       "    }\n",
       "</style>\n",
       "<table border=\"1\" class=\"dataframe\">\n",
       "  <thead>\n",
       "    <tr style=\"text-align: right;\">\n",
       "      <th></th>\n",
       "      <th>Attribute</th>\n",
       "      <th>Importance</th>\n",
       "    </tr>\n",
       "  </thead>\n",
       "  <tbody>\n",
       "    <tr>\n",
       "      <th>2</th>\n",
       "      <td>pt__monthly_premium_auto</td>\n",
       "      <td>162.084262</td>\n",
       "    </tr>\n",
       "    <tr>\n",
       "      <th>1</th>\n",
       "      <td>pt__income</td>\n",
       "      <td>36.298132</td>\n",
       "    </tr>\n",
       "    <tr>\n",
       "      <th>5</th>\n",
       "      <td>pt__number_of_open_complaints</td>\n",
       "      <td>2.892043</td>\n",
       "    </tr>\n",
       "    <tr>\n",
       "      <th>0</th>\n",
       "      <td>pt__customer_lifetime_value</td>\n",
       "      <td>2.716145</td>\n",
       "    </tr>\n",
       "    <tr>\n",
       "      <th>3</th>\n",
       "      <td>pt__months_since_last_claim</td>\n",
       "      <td>2.074580</td>\n",
       "    </tr>\n",
       "    <tr>\n",
       "      <th>4</th>\n",
       "      <td>pt__months_since_policy_inception</td>\n",
       "      <td>1.298054</td>\n",
       "    </tr>\n",
       "    <tr>\n",
       "      <th>6</th>\n",
       "      <td>pt__number_of_policies</td>\n",
       "      <td>0.962976</td>\n",
       "    </tr>\n",
       "  </tbody>\n",
       "</table>\n",
       "</div>"
      ],
      "text/plain": [
       "                           Attribute  Importance\n",
       "2           pt__monthly_premium_auto  162.084262\n",
       "1                         pt__income   36.298132\n",
       "5      pt__number_of_open_complaints    2.892043\n",
       "0        pt__customer_lifetime_value    2.716145\n",
       "3        pt__months_since_last_claim    2.074580\n",
       "4  pt__months_since_policy_inception    1.298054\n",
       "6             pt__number_of_policies    0.962976"
      ]
     },
     "execution_count": 18,
     "metadata": {},
     "output_type": "execute_result"
    }
   ],
   "source": [
    "features_importances = pd.DataFrame(data={\n",
    "    'Attribute': X_train.columns,\n",
    "    'Importance': abs(model.coef_.reshape(len(X_train.columns),))\n",
    "})\n",
    "features_importances = features_importances.sort_values(by='Importance', ascending=False)\n",
    "features_importances"
   ]
  },
  {
   "cell_type": "code",
   "execution_count": 19,
   "id": "640abaef",
   "metadata": {},
   "outputs": [
    {
     "data": {
      "image/png": "[encoded data removed]",
      "text/plain": [
       "<Figure size 640x480 with 1 Axes>"
      ]
     },
     "metadata": {},
     "output_type": "display_data"
    }
   ],
   "source": [
    "plt.bar(x=features_importances['Attribute'].iloc[:10], height=features_importances['Importance'].iloc[:10], color='#087E8B')\n",
    "plt.title('Feature importance rankings', size=12)\n",
    "plt.xticks(rotation='vertical')\n",
    "plt.show()"
   ]
  },
  {
   "cell_type": "code",
   "execution_count": null,
   "id": "c9372011",
   "metadata": {},
   "outputs": [],
   "source": []
  }
 ],
 "metadata": {
  "kernelspec": {
   "display_name": "Python 3 (ipykernel)",
   "language": "python",
   "name": "python3"
  },
  "language_info": {
   "codemirror_mode": {
    "name": "ipython",
    "version": 3
   },
   "file_extension": ".py",
   "mimetype": "text/x-python",
   "name": "python",
   "nbconvert_exporter": "python",
   "pygments_lexer": "ipython3",
   "version": "3.9.13"
  }
 },
 "nbformat": 4,
 "nbformat_minor": 5
}
