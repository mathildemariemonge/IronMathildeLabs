{
 "cells": [
  {
   "cell_type": "markdown",
   "id": "768bb7b6",
   "metadata": {},
   "source": [
    "#Instructions\n",
    "It is assumed that the mean systolic blood pressure is μ = 120 mm Hg. In the Honolulu Heart Study, a sample of n = 100 people had an average systolic blood pressure of 130.1 mm Hg with a standard deviation of 21.21 mm Hg. Is the group significantly different (with respect to systolic blood pressure!) from the regular population?\n",
    "\n",
    "Set up the hypothesis test.\n",
    "Write down all the steps followed for setting up the test.\n",
    "Calculate the test statistic by hand and also code it in Python. It should be 4.76190. What decision can you make based on this calculated value?\n",
    "Hint: here is the statistic table#"
   ]
  },
  {
   "cell_type": "markdown",
   "id": "14adcb4f",
   "metadata": {},
   "source": [
    "Null hypothesis: The sample comes from a population with a mean systolic blood pressure of μ = 120 mm Hg.\n",
    "\n",
    "Alternative hypothesis: The sample comes from a population with a mean systolic blood pressure that is significantly different from μ = 120 mm Hg."
   ]
  },
  {
   "cell_type": "markdown",
   "id": "f5f36763",
   "metadata": {},
   "source": [
    "1. Determine the level of significance, often denoted as α. Let's assume α = 0.05 for this test.\n",
    "\n",
    "2. Calculate the sample mean, denoted as x̄, which is 130.1 mm Hg in this case.\n",
    "\n",
    "3. Calculate the sample standard deviation, denoted as s, which is 21.21 mm Hg in this case.\n",
    "\n",
    "4. Determine the sample size, denoted as n, which is 100 in this case.\n",
    "\n",
    "5. Calculate the standard error of the mean, denoted as SEM, using the formula: SEM = s/√n.\n",
    "\n",
    "6. Calculate the t-statistic using the formula: t = (x̄ - μ) / SEM, where μ is the population mean. In this case, μ = 120 mm Hg.\n",
    "\n",
    "7. Determine the degrees of freedom, denoted as df, using the formula: df = n - 1.\n",
    "\n",
    "8. Determine the critical value for the t-distribution with df degrees of freedom and a significance level of α. This can be done using a t-table or a statistical software package. For α = 0.05 and df = 99, the critical value is ±1.984.\n",
    "\n",
    "9. Compare the calculated t-statistic to the critical value. If the calculated t-statistic falls within the critical region (i.e., outside the range of ±1.984), we reject the null hypothesis. Otherwise, we fail to reject the null hypothesis.\n",
    "\n",
    "t = (130.1 - 120) / (21.21/√100) = 4.76190"
   ]
  },
  {
   "cell_type": "code",
   "execution_count": 1,
   "id": "f3c90724",
   "metadata": {},
   "outputs": [
    {
     "name": "stdout",
     "output_type": "stream",
     "text": [
      "4.761904761904759\n"
     ]
    }
   ],
   "source": [
    "import math\n",
    "\n",
    "x_bar = 130.1\n",
    "mu = 120\n",
    "s = 21.21\n",
    "n = 100\n",
    "\n",
    "SEM = s / math.sqrt(n)\n",
    "t = (x_bar - mu) / SEM\n",
    "\n",
    "print(t)\n"
   ]
  },
  {
   "cell_type": "markdown",
   "id": "e413de4b",
   "metadata": {},
   "source": [
    "Since the calculated t-statistic (4.76190) falls outside the critical region of ±1.984 for a significance level of α = 0.05 and df = 99, we reject the null hypothesis. This means that the sample comes from a population with a mean systolic blood pressure that is significantly different from μ = 120 mm Hg."
   ]
  }
 ],
 "metadata": {
  "kernelspec": {
   "display_name": "Python 3 (ipykernel)",
   "language": "python",
   "name": "python3"
  },
  "language_info": {
   "codemirror_mode": {
    "name": "ipython",
    "version": 3
   },
   "file_extension": ".py",
   "mimetype": "text/x-python",
   "name": "python",
   "nbconvert_exporter": "python",
   "pygments_lexer": "ipython3",
   "version": "3.9.13"
  }
 },
 "nbformat": 4,
 "nbformat_minor": 5
}
