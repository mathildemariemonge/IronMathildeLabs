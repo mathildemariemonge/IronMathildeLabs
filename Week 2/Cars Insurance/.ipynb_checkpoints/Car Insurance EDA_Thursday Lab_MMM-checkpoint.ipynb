{
 "cells": [
  {
   "cell_type": "markdown",
   "id": "92043694",
   "metadata": {},
   "source": [
    "# Business Intelligence Report: Car Insurance Total Claim Amounts"
   ]
  },
  {
   "cell_type": "markdown",
   "id": "75a73a36",
   "metadata": {},
   "source": [
    "# Context"
   ]
  },
  {
   "cell_type": "markdown",
   "id": "942f88c6",
   "metadata": {},
   "source": [
    "Insurances originated from a general demand of society asking for protection against unforeseeable events which may cause severe (financial) damage to individuals. Insurance companies provide a protection against such events and cover the arising financial expenses. The main idea behind it is the establishment of a community (collective), whereby each member contributes a certain amount of money (premium) and the emerging financial damages are covered by the funds of the community. The insurers themselves are in charge of drafting the corresponding contracts, determining appropriate premiums and paying off potential claims."
   ]
  },
  {
   "cell_type": "markdown",
   "id": "54fd0d33",
   "metadata": {},
   "source": [
    "# Objective"
   ]
  },
  {
   "cell_type": "markdown",
   "id": "dcdd8d34",
   "metadata": {},
   "source": [
    "The objective of this report is to support senior management by providing data-driven answers to business questions that will help the organisation to better understand their customers, improve their services, and improve profitability."
   ]
  },
  {
   "cell_type": "markdown",
   "id": "8d2b93ae",
   "metadata": {},
   "source": [
    "## Business Objectives"
   ]
  },
  {
   "cell_type": "markdown",
   "id": "66b0e6d0",
   "metadata": {},
   "source": [
    "- Retain customers,\n",
    "- Analyze relevant customer data,\n",
    "- Develop focused customer retention programs."
   ]
  },
  {
   "cell_type": "code",
   "execution_count": 8,
   "id": "caf3d4f7",
   "metadata": {},
   "outputs": [],
   "source": [
    "# import libraries to use (pandas, matplotlib.pyplot and seaborn)\n",
    "import pandas as pd\n",
    "import numpy as np\n",
    "import matplotlib.pyplot as plt\n",
    "import seaborn as sns\n",
    "%matplotlib inline"
   ]
  },
  {
   "cell_type": "markdown",
   "id": "cbc2bec6",
   "metadata": {},
   "source": [
    "# Analysis"
   ]
  },
  {
   "cell_type": "markdown",
   "id": "d5f80a1b",
   "metadata": {},
   "source": [
    "The below analysis uses the provided data frame, below:"
   ]
  },
  {
   "cell_type": "code",
   "execution_count": 12,
   "id": "a0b7e2ed",
   "metadata": {},
   "outputs": [
    {
     "data": {
      "text/html": [
       "<div>\n",
       "<style scoped>\n",
       "    .dataframe tbody tr th:only-of-type {\n",
       "        vertical-align: middle;\n",
       "    }\n",
       "\n",
       "    .dataframe tbody tr th {\n",
       "        vertical-align: top;\n",
       "    }\n",
       "\n",
       "    .dataframe thead th {\n",
       "        text-align: right;\n",
       "    }\n",
       "</style>\n",
       "<table border=\"1\" class=\"dataframe\">\n",
       "  <thead>\n",
       "    <tr style=\"text-align: right;\">\n",
       "      <th></th>\n",
       "      <th>region</th>\n",
       "      <th>customer_lifetime_value</th>\n",
       "      <th>response</th>\n",
       "      <th>coverage</th>\n",
       "      <th>education</th>\n",
       "      <th>effective_to_date</th>\n",
       "      <th>month</th>\n",
       "      <th>employment_status</th>\n",
       "      <th>gender</th>\n",
       "      <th>income</th>\n",
       "      <th>...</th>\n",
       "      <th>months_since_policy_inception</th>\n",
       "      <th>number_of_open_complaints</th>\n",
       "      <th>number_of_policies</th>\n",
       "      <th>policy_type</th>\n",
       "      <th>policy</th>\n",
       "      <th>renew_offer_type</th>\n",
       "      <th>sales_channel</th>\n",
       "      <th>total_claim_amount</th>\n",
       "      <th>vehicle_class</th>\n",
       "      <th>vehicle_size</th>\n",
       "    </tr>\n",
       "  </thead>\n",
       "  <tbody>\n",
       "    <tr>\n",
       "      <th>0</th>\n",
       "      <td>central</td>\n",
       "      <td>4809</td>\n",
       "      <td>no</td>\n",
       "      <td>basic</td>\n",
       "      <td>college</td>\n",
       "      <td>2/18/11</td>\n",
       "      <td>feb</td>\n",
       "      <td>employed</td>\n",
       "      <td>m</td>\n",
       "      <td>48029</td>\n",
       "      <td>...</td>\n",
       "      <td>52</td>\n",
       "      <td>0</td>\n",
       "      <td>9</td>\n",
       "      <td>corporate auto</td>\n",
       "      <td>corporate l3</td>\n",
       "      <td>offer3</td>\n",
       "      <td>agent</td>\n",
       "      <td>292</td>\n",
       "      <td>four-door car</td>\n",
       "      <td>medsize</td>\n",
       "    </tr>\n",
       "    <tr>\n",
       "      <th>1</th>\n",
       "      <td>west region</td>\n",
       "      <td>2228</td>\n",
       "      <td>no</td>\n",
       "      <td>basic</td>\n",
       "      <td>college</td>\n",
       "      <td>1/18/11</td>\n",
       "      <td>jan</td>\n",
       "      <td>unemployed</td>\n",
       "      <td>f</td>\n",
       "      <td>92260</td>\n",
       "      <td>...</td>\n",
       "      <td>26</td>\n",
       "      <td>0</td>\n",
       "      <td>1</td>\n",
       "      <td>personal auto</td>\n",
       "      <td>personal l3</td>\n",
       "      <td>offer4</td>\n",
       "      <td>call center</td>\n",
       "      <td>744</td>\n",
       "      <td>four-door car</td>\n",
       "      <td>medsize</td>\n",
       "    </tr>\n",
       "    <tr>\n",
       "      <th>2</th>\n",
       "      <td>east</td>\n",
       "      <td>14947</td>\n",
       "      <td>no</td>\n",
       "      <td>basic</td>\n",
       "      <td>bachelor</td>\n",
       "      <td>2/10/11</td>\n",
       "      <td>feb</td>\n",
       "      <td>employed</td>\n",
       "      <td>m</td>\n",
       "      <td>22139</td>\n",
       "      <td>...</td>\n",
       "      <td>31</td>\n",
       "      <td>0</td>\n",
       "      <td>2</td>\n",
       "      <td>personal auto</td>\n",
       "      <td>personal l3</td>\n",
       "      <td>offer3</td>\n",
       "      <td>call center</td>\n",
       "      <td>480</td>\n",
       "      <td>suv</td>\n",
       "      <td>medsize</td>\n",
       "    </tr>\n",
       "    <tr>\n",
       "      <th>3</th>\n",
       "      <td>north west</td>\n",
       "      <td>22332</td>\n",
       "      <td>yes</td>\n",
       "      <td>extended</td>\n",
       "      <td>college</td>\n",
       "      <td>1/11/11</td>\n",
       "      <td>jan</td>\n",
       "      <td>employed</td>\n",
       "      <td>m</td>\n",
       "      <td>49078</td>\n",
       "      <td>...</td>\n",
       "      <td>3</td>\n",
       "      <td>0</td>\n",
       "      <td>2</td>\n",
       "      <td>corporate auto</td>\n",
       "      <td>corporate l3</td>\n",
       "      <td>offer2</td>\n",
       "      <td>branch</td>\n",
       "      <td>484</td>\n",
       "      <td>four-door car</td>\n",
       "      <td>medsize</td>\n",
       "    </tr>\n",
       "    <tr>\n",
       "      <th>4</th>\n",
       "      <td>north west</td>\n",
       "      <td>9025</td>\n",
       "      <td>no</td>\n",
       "      <td>premium</td>\n",
       "      <td>bachelor</td>\n",
       "      <td>1/17/11</td>\n",
       "      <td>jan</td>\n",
       "      <td>medical leave</td>\n",
       "      <td>f</td>\n",
       "      <td>23675</td>\n",
       "      <td>...</td>\n",
       "      <td>31</td>\n",
       "      <td>0</td>\n",
       "      <td>7</td>\n",
       "      <td>personal auto</td>\n",
       "      <td>personal l2</td>\n",
       "      <td>offer1</td>\n",
       "      <td>branch</td>\n",
       "      <td>707</td>\n",
       "      <td>four-door car</td>\n",
       "      <td>medsize</td>\n",
       "    </tr>\n",
       "    <tr>\n",
       "      <th>...</th>\n",
       "      <td>...</td>\n",
       "      <td>...</td>\n",
       "      <td>...</td>\n",
       "      <td>...</td>\n",
       "      <td>...</td>\n",
       "      <td>...</td>\n",
       "      <td>...</td>\n",
       "      <td>...</td>\n",
       "      <td>...</td>\n",
       "      <td>...</td>\n",
       "      <td>...</td>\n",
       "      <td>...</td>\n",
       "      <td>...</td>\n",
       "      <td>...</td>\n",
       "      <td>...</td>\n",
       "      <td>...</td>\n",
       "      <td>...</td>\n",
       "      <td>...</td>\n",
       "      <td>...</td>\n",
       "      <td>...</td>\n",
       "      <td>...</td>\n",
       "    </tr>\n",
       "    <tr>\n",
       "      <th>10684</th>\n",
       "      <td>central</td>\n",
       "      <td>15563</td>\n",
       "      <td>no</td>\n",
       "      <td>premium</td>\n",
       "      <td>bachelor</td>\n",
       "      <td>1/19/11</td>\n",
       "      <td>jan</td>\n",
       "      <td>unemployed</td>\n",
       "      <td>f</td>\n",
       "      <td>61541</td>\n",
       "      <td>...</td>\n",
       "      <td>40</td>\n",
       "      <td>0</td>\n",
       "      <td>7</td>\n",
       "      <td>personal auto</td>\n",
       "      <td>personal l1</td>\n",
       "      <td>offer3</td>\n",
       "      <td>web</td>\n",
       "      <td>1214</td>\n",
       "      <td>luxury car</td>\n",
       "      <td>medsize</td>\n",
       "    </tr>\n",
       "    <tr>\n",
       "      <th>10685</th>\n",
       "      <td>north west</td>\n",
       "      <td>5259</td>\n",
       "      <td>no</td>\n",
       "      <td>basic</td>\n",
       "      <td>college</td>\n",
       "      <td>1/6/11</td>\n",
       "      <td>jan</td>\n",
       "      <td>employed</td>\n",
       "      <td>f</td>\n",
       "      <td>61146</td>\n",
       "      <td>...</td>\n",
       "      <td>68</td>\n",
       "      <td>0</td>\n",
       "      <td>6</td>\n",
       "      <td>personal auto</td>\n",
       "      <td>personal l3</td>\n",
       "      <td>offer2</td>\n",
       "      <td>branch</td>\n",
       "      <td>273</td>\n",
       "      <td>four-door car</td>\n",
       "      <td>medsize</td>\n",
       "    </tr>\n",
       "    <tr>\n",
       "      <th>10686</th>\n",
       "      <td>central</td>\n",
       "      <td>23893</td>\n",
       "      <td>no</td>\n",
       "      <td>extended</td>\n",
       "      <td>bachelor</td>\n",
       "      <td>2/6/11</td>\n",
       "      <td>feb</td>\n",
       "      <td>employed</td>\n",
       "      <td>f</td>\n",
       "      <td>39837</td>\n",
       "      <td>...</td>\n",
       "      <td>63</td>\n",
       "      <td>0</td>\n",
       "      <td>2</td>\n",
       "      <td>corporate auto</td>\n",
       "      <td>corporate l3</td>\n",
       "      <td>offer1</td>\n",
       "      <td>web</td>\n",
       "      <td>381</td>\n",
       "      <td>luxury suv</td>\n",
       "      <td>medsize</td>\n",
       "    </tr>\n",
       "    <tr>\n",
       "      <th>10687</th>\n",
       "      <td>west region</td>\n",
       "      <td>11971</td>\n",
       "      <td>no</td>\n",
       "      <td>premium</td>\n",
       "      <td>college</td>\n",
       "      <td>2/13/11</td>\n",
       "      <td>feb</td>\n",
       "      <td>employed</td>\n",
       "      <td>f</td>\n",
       "      <td>64195</td>\n",
       "      <td>...</td>\n",
       "      <td>27</td>\n",
       "      <td>4</td>\n",
       "      <td>6</td>\n",
       "      <td>personal auto</td>\n",
       "      <td>personal l1</td>\n",
       "      <td>offer1</td>\n",
       "      <td>branch</td>\n",
       "      <td>618</td>\n",
       "      <td>suv</td>\n",
       "      <td>medsize</td>\n",
       "    </tr>\n",
       "    <tr>\n",
       "      <th>10688</th>\n",
       "      <td>central</td>\n",
       "      <td>6857</td>\n",
       "      <td>no</td>\n",
       "      <td>basic</td>\n",
       "      <td>bachelor</td>\n",
       "      <td>1/8/11</td>\n",
       "      <td>jan</td>\n",
       "      <td>unemployed</td>\n",
       "      <td>m</td>\n",
       "      <td>68942</td>\n",
       "      <td>...</td>\n",
       "      <td>1</td>\n",
       "      <td>0</td>\n",
       "      <td>3</td>\n",
       "      <td>personal auto</td>\n",
       "      <td>personal l1</td>\n",
       "      <td>offer4</td>\n",
       "      <td>web</td>\n",
       "      <td>1021</td>\n",
       "      <td>suv</td>\n",
       "      <td>medsize</td>\n",
       "    </tr>\n",
       "  </tbody>\n",
       "</table>\n",
       "<p>10689 rows × 24 columns</p>\n",
       "</div>"
      ],
      "text/plain": [
       "            region  customer_lifetime_value response  coverage education  \\\n",
       "0          central                     4809       no     basic   college   \n",
       "1      west region                     2228       no     basic   college   \n",
       "2             east                    14947       no     basic  bachelor   \n",
       "3       north west                    22332      yes  extended   college   \n",
       "4       north west                     9025       no   premium  bachelor   \n",
       "...            ...                      ...      ...       ...       ...   \n",
       "10684      central                    15563       no   premium  bachelor   \n",
       "10685   north west                     5259       no     basic   college   \n",
       "10686      central                    23893       no  extended  bachelor   \n",
       "10687  west region                    11971       no   premium   college   \n",
       "10688      central                     6857       no     basic  bachelor   \n",
       "\n",
       "      effective_to_date month employment_status gender  income  ...  \\\n",
       "0               2/18/11   feb          employed      m   48029  ...   \n",
       "1               1/18/11   jan        unemployed      f   92260  ...   \n",
       "2               2/10/11   feb          employed      m   22139  ...   \n",
       "3               1/11/11   jan          employed      m   49078  ...   \n",
       "4               1/17/11   jan     medical leave      f   23675  ...   \n",
       "...                 ...   ...               ...    ...     ...  ...   \n",
       "10684           1/19/11   jan        unemployed      f   61541  ...   \n",
       "10685            1/6/11   jan          employed      f   61146  ...   \n",
       "10686            2/6/11   feb          employed      f   39837  ...   \n",
       "10687           2/13/11   feb          employed      f   64195  ...   \n",
       "10688            1/8/11   jan        unemployed      m   68942  ...   \n",
       "\n",
       "      months_since_policy_inception number_of_open_complaints  \\\n",
       "0                                52                         0   \n",
       "1                                26                         0   \n",
       "2                                31                         0   \n",
       "3                                 3                         0   \n",
       "4                                31                         0   \n",
       "...                             ...                       ...   \n",
       "10684                            40                         0   \n",
       "10685                            68                         0   \n",
       "10686                            63                         0   \n",
       "10687                            27                         4   \n",
       "10688                             1                         0   \n",
       "\n",
       "       number_of_policies     policy_type        policy  renew_offer_type  \\\n",
       "0                       9  corporate auto  corporate l3            offer3   \n",
       "1                       1   personal auto   personal l3            offer4   \n",
       "2                       2   personal auto   personal l3            offer3   \n",
       "3                       2  corporate auto  corporate l3            offer2   \n",
       "4                       7   personal auto   personal l2            offer1   \n",
       "...                   ...             ...           ...               ...   \n",
       "10684                   7   personal auto   personal l1            offer3   \n",
       "10685                   6   personal auto   personal l3            offer2   \n",
       "10686                   2  corporate auto  corporate l3            offer1   \n",
       "10687                   6   personal auto   personal l1            offer1   \n",
       "10688                   3   personal auto   personal l1            offer4   \n",
       "\n",
       "       sales_channel total_claim_amount  vehicle_class vehicle_size  \n",
       "0              agent                292  four-door car      medsize  \n",
       "1        call center                744  four-door car      medsize  \n",
       "2        call center                480            suv      medsize  \n",
       "3             branch                484  four-door car      medsize  \n",
       "4             branch                707  four-door car      medsize  \n",
       "...              ...                ...            ...          ...  \n",
       "10684            web               1214     luxury car      medsize  \n",
       "10685         branch                273  four-door car      medsize  \n",
       "10686            web                381     luxury suv      medsize  \n",
       "10687         branch                618            suv      medsize  \n",
       "10688            web               1021            suv      medsize  \n",
       "\n",
       "[10689 rows x 24 columns]"
      ]
     },
     "execution_count": 12,
     "metadata": {},
     "output_type": "execute_result"
    }
   ],
   "source": [
    "customer_df = pd.read_csv(r'Data_Marketing_Customer_Analysis_Round3.csv')\n",
    "customer_df"
   ]
  },
  {
   "cell_type": "markdown",
   "id": "8d900bd8",
   "metadata": {},
   "source": [
    "## Total Number of Response"
   ]
  },
  {
   "cell_type": "markdown",
   "id": "5473cdf8",
   "metadata": {},
   "source": [
    "Metric Definition: we don't know what this field is, or what the question for the response even was, but we will base our entire analysis off of it. #bestpractices\n",
    "\n",
    "Methodology: YOLO"
   ]
  },
  {
   "cell_type": "code",
   "execution_count": 13,
   "id": "d9020e53",
   "metadata": {},
   "outputs": [
    {
     "data": {
      "text/plain": [
       "Text(0, 0.5, 'Responses')"
      ]
     },
     "execution_count": 13,
     "metadata": {},
     "output_type": "execute_result"
    },
    {
     "data": {
      "image/png": "[encoded data removed]",
      "text/plain": [
       "<Figure size 640x480 with 1 Axes>"
      ]
     },
     "metadata": {},
     "output_type": "display_data"
    }
   ],
   "source": [
    "response_count = customer_df['response'].value_counts()\n",
    "response_count\n",
    "plt.bar(response_count.index, response_count, color=('#184778','#c9a2a3'))\n",
    "\n",
    "plt.title('Total Number of Responses', fontweight='bold')\n",
    "plt.xticks(ticks=[0,1],labels=[\"no\",\"yes\"], rotation = 60) \n",
    "plt.ylabel(\"Responses\")"
   ]
  },
  {
   "cell_type": "markdown",
   "id": "0a9d3510",
   "metadata": {},
   "source": [
    "Key Takeaway: it seems that the response to the question we don't know is overwhelming \"no\"."
   ]
  },
  {
   "cell_type": "markdown",
   "id": "09d49767",
   "metadata": {},
   "source": [
    "## Response by Sales Channel"
   ]
  },
  {
   "cell_type": "markdown",
   "id": "371e392f",
   "metadata": {},
   "source": [
    "Metric Definition: Sales channels for the car insurance company is defined by the channel through which the customer is contracting their insurance policy. It counts the signature as the event for recording the channel, therefore a sale cannot be multichannel. Yes, I made that up.\n",
    "\n",
    "Methodology: In the analysis below, we compare the mystery responses to the Sales Channels, which can be agent, web, branch or call center."
   ]
  },
  {
   "cell_type": "code",
   "execution_count": 24,
   "id": "bf83f61b",
   "metadata": {},
   "outputs": [
    {
     "data": {
      "text/plain": [
       "<AxesSubplot:title={'center':'Responses by sales channel'}, xlabel='sales_channel', ylabel='count'>"
      ]
     },
     "execution_count": 24,
     "metadata": {},
     "output_type": "execute_result"
    },
    {
     "data": {
      "image/png": "[encoded data removed]",
      "text/plain": [
       "<Figure size 2000x1500 with 1 Axes>"
      ]
     },
     "metadata": {},
     "output_type": "display_data"
    }
   ],
   "source": [
    "response_sales = customer_df.groupby(['response','sales_channel'])['response'].count().rename('count').reset_index()\n",
    "response_sales\n",
    "sns.set_palette('RdYlGn') \n",
    "palette_sales_channel_r = {\"yes\": \"C5\", \"no\": \"C1\"}\n",
    "plt.figure(figsize=(20,15))\n",
    "plt.subplot(2,2,1)\n",
    "\n",
    "plt.title('Responses by sales channel', size='8', fontweight='bold')\n",
    "\n",
    "\n",
    "sns.barplot(x = response_sales['sales_channel'],y = response_sales['count'], hue = response_sales['response'], palette=palette_sales_channel_r)\n",
    "\n",
    "\n"
   ]
  },
  {
   "cell_type": "markdown",
   "id": "286461ab",
   "metadata": {},
   "source": [
    "Key Takeaway: Agents are able to collect more information than any other sales channel (the response rate of the agents is higher). Shocker. But they also do seem to get a proportionally higher amount of \"yeses\" to that mystery question."
   ]
  },
  {
   "cell_type": "markdown",
   "id": "2cd9ab59",
   "metadata": {},
   "source": [
    "## Response by Total Claim Amount"
   ]
  },
  {
   "cell_type": "markdown",
   "id": "5d372062",
   "metadata": {},
   "source": [
    "Metric Definition: \n",
    "\n",
    "Methodology:"
   ]
  },
  {
   "cell_type": "code",
   "execution_count": 23,
   "id": "0eb0bb23",
   "metadata": {},
   "outputs": [
    {
     "data": {
      "text/plain": [
       "<AxesSubplot:title={'center':'Responses by total claim amount'}, xlabel='response', ylabel='countii'>"
      ]
     },
     "execution_count": 23,
     "metadata": {},
     "output_type": "execute_result"
    },
    {
     "data": {
      "image/png": "[encoded data removed]",
      "text/plain": [
       "<Figure size 2000x1500 with 1 Axes>"
      ]
     },
     "metadata": {},
     "output_type": "display_data"
    }
   ],
   "source": [
    "#plot\n",
    "\n",
    "response_total_claim = customer_df.groupby(['response','total_claim_amount'])['response'].count().rename('countii').reset_index()\n",
    "response_total_claim\n",
    "sns.set_palette('RdYlGn') \n",
    "palette_response = {\"yes\": \"C5\", \"no\": \"C0\"}\n",
    "plt.figure(figsize=(20,15))\n",
    "plt.subplot(2,2,1)\n",
    "\n",
    "plt.title('Responses by total claim amount', size='8', fontweight='bold')\n",
    "\n",
    "\n",
    "sns.barplot(x = response_total_claim['response'],y = response_total_claim['countii'], hue = response_total_claim['response'], palette=palette_response)"
   ]
  },
  {
   "cell_type": "markdown",
   "id": "40b30093",
   "metadata": {},
   "source": [
    "Key Takeaway: Hard to tell honestly, but the higher the claim amount the more likely the mystery question is answered no."
   ]
  },
  {
   "cell_type": "markdown",
   "id": "c7ab0ce0",
   "metadata": {},
   "source": [
    "## Response by Income"
   ]
  },
  {
   "cell_type": "markdown",
   "id": "7149263e",
   "metadata": {},
   "source": [
    "Metric Definition: \n",
    "\n",
    "Methodology:"
   ]
  },
  {
   "cell_type": "code",
   "execution_count": 4,
   "id": "9bc9a166",
   "metadata": {},
   "outputs": [],
   "source": [
    "#plot"
   ]
  },
  {
   "cell_type": "markdown",
   "id": "cc9fd094",
   "metadata": {},
   "source": [
    "Key Takeaway:"
   ]
  },
  {
   "cell_type": "markdown",
   "id": "9fdd3e88",
   "metadata": {},
   "source": [
    "# Conclusion"
   ]
  },
  {
   "cell_type": "markdown",
   "id": "86885a7d",
   "metadata": {},
   "source": [
    "Please don't take any business decision off of this analysis :0)\n",
    "\n",
    "We were able to give a short idea of a few applications of python, pandas and plotting analysis in the context\n",
    "of car insurance. However it became rather obvious that the broad possibilities of such methods cannot be summarized in such a short section, without the theory becoming too detailed for the actual framework. "
   ]
  }
 ],
 "metadata": {
  "kernelspec": {
   "display_name": "Python 3 (ipykernel)",
   "language": "python",
   "name": "python3"
  },
  "language_info": {
   "codemirror_mode": {
    "name": "ipython",
    "version": 3
   },
   "file_extension": ".py",
   "mimetype": "text/x-python",
   "name": "python",
   "nbconvert_exporter": "python",
   "pygments_lexer": "ipython3",
   "version": "3.9.13"
  }
 },
 "nbformat": 4,
 "nbformat_minor": 5
}
