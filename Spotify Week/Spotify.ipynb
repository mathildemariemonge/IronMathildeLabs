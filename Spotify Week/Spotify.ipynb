{
 "cells": [
  {
   "cell_type": "code",
   "execution_count": 5,
   "id": "191d93bf",
   "metadata": {},
   "outputs": [],
   "source": [
    "import config\n"
   ]
  },
  {
   "cell_type": "code",
   "execution_count": 6,
   "id": "80d5a543",
   "metadata": {},
   "outputs": [],
   "source": [
    "import spotipy\n",
    "import json\n",
    "from spotipy.oauth2 import SpotifyClientCredentials\n",
    "\n",
    "\n",
    "#Initialize SpotiPy with user credentials\n",
    "sp = spotipy.Spotify(auth_manager=SpotifyClientCredentials(client_id= config.client_id,\n",
    "                                                           client_secret= config.client_secret))\n"
   ]
  },
  {
   "cell_type": "code",
   "execution_count": 8,
   "id": "c5666192",
   "metadata": {},
   "outputs": [
    {
     "data": {
      "text/plain": [
       "{'tracks': {'href': 'https://api.spotify.com/v1/search?query=you+may+be+right&type=track&market=GB&offset=0&limit=3',\n",
       "  'items': [{'album': {'album_group': 'album',\n",
       "     'album_type': 'album',\n",
       "     'artists': [{'external_urls': {'spotify': 'https://open.spotify.com/artist/6zFYqv1mOsgBRQbae3JJ9e'},\n",
       "       'href': 'https://api.spotify.com/v1/artists/6zFYqv1mOsgBRQbae3JJ9e',\n",
       "       'id': '6zFYqv1mOsgBRQbae3JJ9e',\n",
       "       'name': 'Billy Joel',\n",
       "       'type': 'artist',\n",
       "       'uri': 'spotify:artist:6zFYqv1mOsgBRQbae3JJ9e'}],\n",
       "     'external_urls': {'spotify': 'https://open.spotify.com/album/5sztejERqpktXEdemlUvU5'},\n",
       "     'href': 'https://api.spotify.com/v1/albums/5sztejERqpktXEdemlUvU5',\n",
       "     'id': '5sztejERqpktXEdemlUvU5',\n",
       "     'images': [{'height': 640,\n",
       "       'url': 'https://i.scdn.co/image/ab67616d0000b27322d5199692d318c28d6c7d9b',\n",
       "       'width': 640},\n",
       "      {'height': 300,\n",
       "       'url': 'https://i.scdn.co/image/ab67616d00001e0222d5199692d318c28d6c7d9b',\n",
       "       'width': 300},\n",
       "      {'height': 64,\n",
       "       'url': 'https://i.scdn.co/image/ab67616d0000485122d5199692d318c28d6c7d9b',\n",
       "       'width': 64}],\n",
       "     'is_playable': True,\n",
       "     'name': 'Glass Houses',\n",
       "     'release_date': '1980-03-12',\n",
       "     'release_date_precision': 'day',\n",
       "     'total_tracks': 10,\n",
       "     'type': 'album',\n",
       "     'uri': 'spotify:album:5sztejERqpktXEdemlUvU5'},\n",
       "    'artists': [{'external_urls': {'spotify': 'https://open.spotify.com/artist/6zFYqv1mOsgBRQbae3JJ9e'},\n",
       "      'href': 'https://api.spotify.com/v1/artists/6zFYqv1mOsgBRQbae3JJ9e',\n",
       "      'id': '6zFYqv1mOsgBRQbae3JJ9e',\n",
       "      'name': 'Billy Joel',\n",
       "      'type': 'artist',\n",
       "      'uri': 'spotify:artist:6zFYqv1mOsgBRQbae3JJ9e'}],\n",
       "    'disc_number': 1,\n",
       "    'duration_ms': 253200,\n",
       "    'explicit': False,\n",
       "    'external_ids': {'isrc': 'USSM17900398'},\n",
       "    'external_urls': {'spotify': 'https://open.spotify.com/track/7gMOe0gXYcELUoVugfMmHP'},\n",
       "    'href': 'https://api.spotify.com/v1/tracks/7gMOe0gXYcELUoVugfMmHP',\n",
       "    'id': '7gMOe0gXYcELUoVugfMmHP',\n",
       "    'is_local': False,\n",
       "    'is_playable': True,\n",
       "    'name': 'You May Be Right',\n",
       "    'popularity': 66,\n",
       "    'preview_url': 'https://p.scdn.co/mp3-preview/ae42173d1fa2c4d3079d46b92dfc532002cffb35?cid=2ccc07e7693640389c734cf3de79965a',\n",
       "    'track_number': 1,\n",
       "    'type': 'track',\n",
       "    'uri': 'spotify:track:7gMOe0gXYcELUoVugfMmHP'},\n",
       "   {'album': {'album_group': 'album',\n",
       "     'album_type': 'album',\n",
       "     'artists': [{'external_urls': {'spotify': 'https://open.spotify.com/artist/0SCbttzoZTnLFebDYmAWCm'},\n",
       "       'href': 'https://api.spotify.com/v1/artists/0SCbttzoZTnLFebDYmAWCm',\n",
       "       'id': '0SCbttzoZTnLFebDYmAWCm',\n",
       "       'name': 'Glee Cast',\n",
       "       'type': 'artist',\n",
       "       'uri': 'spotify:artist:0SCbttzoZTnLFebDYmAWCm'}],\n",
       "     'external_urls': {'spotify': 'https://open.spotify.com/album/6iCPcayrmOOVO8eTUPcRrG'},\n",
       "     'href': 'https://api.spotify.com/v1/albums/6iCPcayrmOOVO8eTUPcRrG',\n",
       "     'id': '6iCPcayrmOOVO8eTUPcRrG',\n",
       "     'images': [{'height': 640,\n",
       "       'url': 'https://i.scdn.co/image/ab67616d0000b273284e4da65387e8108302dcf8',\n",
       "       'width': 640},\n",
       "      {'height': 300,\n",
       "       'url': 'https://i.scdn.co/image/ab67616d00001e02284e4da65387e8108302dcf8',\n",
       "       'width': 300},\n",
       "      {'height': 64,\n",
       "       'url': 'https://i.scdn.co/image/ab67616d00004851284e4da65387e8108302dcf8',\n",
       "       'width': 64}],\n",
       "     'is_playable': True,\n",
       "     'name': \"Movin' Out\",\n",
       "     'release_date': '2013-11-19',\n",
       "     'release_date_precision': 'day',\n",
       "     'total_tracks': 7,\n",
       "     'type': 'album',\n",
       "     'uri': 'spotify:album:6iCPcayrmOOVO8eTUPcRrG'},\n",
       "    'artists': [{'external_urls': {'spotify': 'https://open.spotify.com/artist/0SCbttzoZTnLFebDYmAWCm'},\n",
       "      'href': 'https://api.spotify.com/v1/artists/0SCbttzoZTnLFebDYmAWCm',\n",
       "      'id': '0SCbttzoZTnLFebDYmAWCm',\n",
       "      'name': 'Glee Cast',\n",
       "      'type': 'artist',\n",
       "      'uri': 'spotify:artist:0SCbttzoZTnLFebDYmAWCm'}],\n",
       "    'disc_number': 1,\n",
       "    'duration_ms': 210373,\n",
       "    'explicit': False,\n",
       "    'external_ids': {'isrc': 'USQX91302503'},\n",
       "    'external_urls': {'spotify': 'https://open.spotify.com/track/0gcA4WK2RhPWgDGQRKWs9h'},\n",
       "    'href': 'https://api.spotify.com/v1/tracks/0gcA4WK2RhPWgDGQRKWs9h',\n",
       "    'id': '0gcA4WK2RhPWgDGQRKWs9h',\n",
       "    'is_local': False,\n",
       "    'is_playable': True,\n",
       "    'name': 'You May Be Right (Glee Cast Version)',\n",
       "    'popularity': 32,\n",
       "    'preview_url': 'https://p.scdn.co/mp3-preview/2be0034cfb09cfa8bdc96bcdc5db1ccbb805801a?cid=2ccc07e7693640389c734cf3de79965a',\n",
       "    'track_number': 7,\n",
       "    'type': 'track',\n",
       "    'uri': 'spotify:track:0gcA4WK2RhPWgDGQRKWs9h'},\n",
       "   {'album': {'album_group': 'compilation',\n",
       "     'album_type': 'compilation',\n",
       "     'artists': [{'external_urls': {'spotify': 'https://open.spotify.com/artist/6zFYqv1mOsgBRQbae3JJ9e'},\n",
       "       'href': 'https://api.spotify.com/v1/artists/6zFYqv1mOsgBRQbae3JJ9e',\n",
       "       'id': '6zFYqv1mOsgBRQbae3JJ9e',\n",
       "       'name': 'Billy Joel',\n",
       "       'type': 'artist',\n",
       "       'uri': 'spotify:artist:6zFYqv1mOsgBRQbae3JJ9e'}],\n",
       "     'external_urls': {'spotify': 'https://open.spotify.com/album/5nWLdbqnLvx8z8vpzWuwcg'},\n",
       "     'href': 'https://api.spotify.com/v1/albums/5nWLdbqnLvx8z8vpzWuwcg',\n",
       "     'id': '5nWLdbqnLvx8z8vpzWuwcg',\n",
       "     'images': [{'height': 640,\n",
       "       'url': 'https://i.scdn.co/image/ab67616d0000b273512991c038c5dccb4a21d68d',\n",
       "       'width': 640},\n",
       "      {'height': 300,\n",
       "       'url': 'https://i.scdn.co/image/ab67616d00001e02512991c038c5dccb4a21d68d',\n",
       "       'width': 300},\n",
       "      {'height': 64,\n",
       "       'url': 'https://i.scdn.co/image/ab67616d00004851512991c038c5dccb4a21d68d',\n",
       "       'width': 64}],\n",
       "     'is_playable': True,\n",
       "     'name': 'My Lives',\n",
       "     'release_date': '2005-11-22',\n",
       "     'release_date_precision': 'day',\n",
       "     'total_tracks': 69,\n",
       "     'type': 'album',\n",
       "     'uri': 'spotify:album:5nWLdbqnLvx8z8vpzWuwcg'},\n",
       "    'artists': [{'external_urls': {'spotify': 'https://open.spotify.com/artist/6zFYqv1mOsgBRQbae3JJ9e'},\n",
       "      'href': 'https://api.spotify.com/v1/artists/6zFYqv1mOsgBRQbae3JJ9e',\n",
       "      'id': '6zFYqv1mOsgBRQbae3JJ9e',\n",
       "      'name': 'Billy Joel',\n",
       "      'type': 'artist',\n",
       "      'uri': 'spotify:artist:6zFYqv1mOsgBRQbae3JJ9e'},\n",
       "     {'external_urls': {'spotify': 'https://open.spotify.com/artist/3PhoLpVuITZKcymswpck5b'},\n",
       "      'href': 'https://api.spotify.com/v1/artists/3PhoLpVuITZKcymswpck5b',\n",
       "      'id': '3PhoLpVuITZKcymswpck5b',\n",
       "      'name': 'Elton John',\n",
       "      'type': 'artist',\n",
       "      'uri': 'spotify:artist:3PhoLpVuITZKcymswpck5b'}],\n",
       "    'disc_number': 4,\n",
       "    'duration_ms': 287600,\n",
       "    'explicit': False,\n",
       "    'external_ids': {'isrc': 'USSM10506076'},\n",
       "    'external_urls': {'spotify': 'https://open.spotify.com/track/3UxxuVRCQbdiOPTA9jt3NM'},\n",
       "    'href': 'https://api.spotify.com/v1/tracks/3UxxuVRCQbdiOPTA9jt3NM',\n",
       "    'id': '3UxxuVRCQbdiOPTA9jt3NM',\n",
       "    'is_local': False,\n",
       "    'is_playable': True,\n",
       "    'name': 'You May Be Right - Live at Giants Stadium, E. Rutherford, NJ - July 1994',\n",
       "    'popularity': 21,\n",
       "    'preview_url': 'https://p.scdn.co/mp3-preview/8697e7e206b9f4b26ee45fbcd9b73b7d09270add?cid=2ccc07e7693640389c734cf3de79965a',\n",
       "    'track_number': 2,\n",
       "    'type': 'track',\n",
       "    'uri': 'spotify:track:3UxxuVRCQbdiOPTA9jt3NM'}],\n",
       "  'limit': 3,\n",
       "  'next': 'https://api.spotify.com/v1/search?query=you+may+be+right&type=track&market=GB&offset=3&limit=3',\n",
       "  'offset': 0,\n",
       "  'previous': None,\n",
       "  'total': 1000}}"
      ]
     },
     "execution_count": 8,
     "metadata": {},
     "output_type": "execute_result"
    }
   ],
   "source": [
    "\n",
    "# The \"sp\" variable has two useful funtions:\n",
    "# The first usefull function is:\n",
    "# .search(q='',limit=n)\n",
    "# .search(q=\"track:\"+song_name+\" artist:\"+artist_name,limit=5) to restrict to a song name and artist.\n",
    "# Where the \"q\" keyword is the query you want to perform on spotify: song_name, artist,...\n",
    "# while The \"limit\" keyword will limit the number of returned results.\n",
    "#\n",
    "# The second usefull function is:\n",
    "# .audio_features([URL|URI|ID])\n",
    "# which returns some 'features of the song', that after cleanup, we can use in order to characterize a song.\n",
    "\n",
    "results = sp.search(q=\"you may be right\",limit=3,market=\"GB\")\n",
    "results\n",
    "#json_results = json.dumps(results, ensure_ascii=True)\n",
    "#json_results\n",
    "#results['tracks']['items'][0]['external_urls'][\"spotify\"]"
   ]
  },
  {
   "cell_type": "code",
   "execution_count": 9,
   "id": "eebbd0b7",
   "metadata": {},
   "outputs": [
    {
     "data": {
      "text/plain": [
       "'6zFYqv1mOsgBRQbae3JJ9e'"
      ]
     },
     "execution_count": 9,
     "metadata": {},
     "output_type": "execute_result"
    }
   ],
   "source": [
    "results[\"tracks\"][\"items\"][0]['album']['artists'][0][\"id\"]"
   ]
  },
  {
   "cell_type": "code",
   "execution_count": 10,
   "id": "8247f115",
   "metadata": {},
   "outputs": [
    {
     "data": {
      "text/plain": [
       "'7gMOe0gXYcELUoVugfMmHP'"
      ]
     },
     "execution_count": 10,
     "metadata": {},
     "output_type": "execute_result"
    }
   ],
   "source": [
    "track_id=results[\"tracks\"][\"items\"][0][\"id\"]\n",
    "track_id"
   ]
  },
  {
   "cell_type": "code",
   "execution_count": 11,
   "id": "63242e1f",
   "metadata": {},
   "outputs": [
    {
     "data": {
      "text/html": [
       "\n",
       "        <iframe\n",
       "            width=\"320\"\n",
       "            height=\"80\"\n",
       "            src=\"https://open.spotify.com/embed/track/7gMOe0gXYcELUoVugfMmHP?frameborder=0&allowtransparency=true&allow=encrypted-media\"\n",
       "            frameborder=\"0\"\n",
       "            allowfullscreen\n",
       "            \n",
       "        ></iframe>\n",
       "        "
      ],
      "text/plain": [
       "<IPython.lib.display.IFrame at 0x7fe358023d60>"
      ]
     },
     "execution_count": 11,
     "metadata": {},
     "output_type": "execute_result"
    }
   ],
   "source": [
    "from IPython.display import IFrame\n",
    "\n",
    "#track_id = \"1rfORa9iYmocEsnnZGMVC4\"\n",
    "#track_id= 'spotify:track:3hgl7EQwTutSm6PESsB7gZ'\n",
    "IFrame(src=\"https://open.spotify.com/embed/track/\"+track_id,\n",
    "       width=\"320\",\n",
    "       height=\"80\",\n",
    "       frameborder=\"0\",\n",
    "       allowtransparency=\"true\",\n",
    "       allow=\"encrypted-media\",\n",
    "      )"
   ]
  },
  {
   "cell_type": "code",
   "execution_count": null,
   "id": "2dbf9f25",
   "metadata": {},
   "outputs": [],
   "source": []
  }
 ],
 "metadata": {
  "kernelspec": {
   "display_name": "Python 3 (ipykernel)",
   "language": "python",
   "name": "python3"
  },
  "language_info": {
   "codemirror_mode": {
    "name": "ipython",
    "version": 3
   },
   "file_extension": ".py",
   "mimetype": "text/x-python",
   "name": "python",
   "nbconvert_exporter": "python",
   "pygments_lexer": "ipython3",
   "version": "3.9.13"
  }
 },
 "nbformat": 4,
 "nbformat_minor": 5
}
